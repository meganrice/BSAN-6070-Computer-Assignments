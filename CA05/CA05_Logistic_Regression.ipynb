{
  "nbformat": 4,
  "nbformat_minor": 0,
  "metadata": {
    "colab": {
      "name": "CA05 - Logistic Regression.ipynb",
      "provenance": [],
      "collapsed_sections": [
        "K4jbB2v8YeMD",
        "oJb-B8C2fJdS",
        "mQAcJY1XiFAo",
        "1Bf9bXWZr7IY",
        "PIABzZQ9sUBQ",
        "0qeQKnpTswaw",
        "4Q_XrTDsu5wY"
      ]
    },
    "kernelspec": {
      "name": "python3",
      "display_name": "Python 3"
    },
    "language_info": {
      "name": "python"
    }
  },
  "cells": [
    {
      "cell_type": "markdown",
      "metadata": {
        "id": "1DM1qKWJYI6C"
      },
      "source": [
        "# **CA05 - Logistic Regression**\n",
        "## **Megan Rice**"
      ]
    },
    {
      "cell_type": "markdown",
      "metadata": {
        "id": "K4jbB2v8YeMD"
      },
      "source": [
        "# **Data Source, Contents, and Import**"
      ]
    },
    {
      "cell_type": "markdown",
      "metadata": {
        "id": "43YKjZZ9Yk4a"
      },
      "source": [
        "Cardiovascular Disease (CVD) kills more people than cancer globally. A dataset of real heart patients collected from a 15 year heart study cohort is made available for this assignment. The dataset has 16 patient features. Note that none of the features include any Blood Test information."
      ]
    },
    {
      "cell_type": "markdown",
      "metadata": {
        "id": "2U2O4Q24ZDlr"
      },
      "source": [
        "\n",
        "Data Column (Feature Name) Descriptions:\n",
        "\n",
        "cvd_4types: Label Column. 0 indicates “No Risk”, 1 indicates “Risk Present” age_s1: Age in Years\n",
        "race: 1 - White, 2 - Black, 3 – Other\n",
        "....\n",
        "\n",
        "\n",
        "Get the definition of rest of the 16 features by searching on the feature name at the following web page:\n",
        "https://sleepdata.org/datasets/shhs/variables"
      ]
    },
    {
      "cell_type": "code",
      "metadata": {
        "id": "166GT7VoZQsj"
      },
      "source": [
        "#importing packages\n",
        "import numpy as np\n",
        "import pandas as pd\n",
        "import matplotlib.pyplot as plt\n",
        "import seaborn as sn\n",
        "from sklearn.model_selection import train_test_split\n",
        "from sklearn.linear_model import LogisticRegression\n",
        "from sklearn.metrics import confusion_matrix, roc_auc_score, roc_curve, recall_score"
      ],
      "execution_count": 427,
      "outputs": []
    },
    {
      "cell_type": "code",
      "metadata": {
        "id": "7Z_WaiotYTmq"
      },
      "source": [
        "#uploading the data\n",
        "df_cvd = pd.read_csv('https://raw.githubusercontent.com/ArinB/CA05-B-Logistic-Regression/master/cvd_data.csv')"
      ],
      "execution_count": 428,
      "outputs": []
    },
    {
      "cell_type": "markdown",
      "metadata": {
        "id": "oJb-B8C2fJdS"
      },
      "source": [
        "#**Data Quality Analysis**"
      ]
    },
    {
      "cell_type": "code",
      "metadata": {
        "id": "KyIRIIYEjsWf"
      },
      "source": [
        "#rename columns for a better clarification\n",
        "df_cvd.rename(columns= {'age_s1':'age',\n",
        "                    'educat':'education_level', \n",
        "                    'mstat':'marital_status',\n",
        "                    'neck20': 'neck',\n",
        "                    'cgpkyr':'cigarette_consumption',\n",
        "                    'tea15':'caffeine_consumption',\n",
        "                    'srhype':'hypertension',\n",
        "                    'bend25':'bending',\n",
        "                    'happy25':'happiness',\n",
        "                    'tired25':'fatigue',\n",
        "                    'hlthlm25': 'activity',\n",
        "                    'parrptdiab':'diabetes',\n",
        "                    'cvd_4types':'cvd_risk'}, inplace= True)"
      ],
      "execution_count": 429,
      "outputs": []
    },
    {
      "cell_type": "code",
      "metadata": {
        "colab": {
          "base_uri": "https://localhost:8080/"
        },
        "id": "3Cju-y07hlYj",
        "outputId": "d7c4ab71-d527-465d-a755-af2e79877ee8"
      },
      "source": [
        "#number of null values in each column\n",
        "df_cvd.isnull().sum()"
      ],
      "execution_count": 430,
      "outputs": [
        {
          "output_type": "execute_result",
          "data": {
            "text/plain": [
              "cvd_risk                 0\n",
              "age                      0\n",
              "race                     0\n",
              "education_level          0\n",
              "marital_status           0\n",
              "hip                      0\n",
              "neck                     0\n",
              "waist                    0\n",
              "av_weight_kg             0\n",
              "cigarette_consumption    0\n",
              "caffeine_consumption     0\n",
              "hypertension             0\n",
              "diabetes                 0\n",
              "bending                  0\n",
              "happiness                0\n",
              "fatigue                  0\n",
              "activity                 0\n",
              "dtype: int64"
            ]
          },
          "metadata": {
            "tags": []
          },
          "execution_count": 430
        }
      ]
    },
    {
      "cell_type": "code",
      "metadata": {
        "colab": {
          "base_uri": "https://localhost:8080/"
        },
        "id": "dfNEFkU_hpI7",
        "outputId": "367cc777-1647-48d3-d495-016f44d4c87c"
      },
      "source": [
        "#number of non-null values for each column\n",
        "df_cvd.count()"
      ],
      "execution_count": 431,
      "outputs": [
        {
          "output_type": "execute_result",
          "data": {
            "text/plain": [
              "cvd_risk                 3242\n",
              "age                      3242\n",
              "race                     3242\n",
              "education_level          3242\n",
              "marital_status           3242\n",
              "hip                      3242\n",
              "neck                     3242\n",
              "waist                    3242\n",
              "av_weight_kg             3242\n",
              "cigarette_consumption    3242\n",
              "caffeine_consumption     3242\n",
              "hypertension             3242\n",
              "diabetes                 3242\n",
              "bending                  3242\n",
              "happiness                3242\n",
              "fatigue                  3242\n",
              "activity                 3242\n",
              "dtype: int64"
            ]
          },
          "metadata": {
            "tags": []
          },
          "execution_count": 431
        }
      ]
    },
    {
      "cell_type": "code",
      "metadata": {
        "colab": {
          "base_uri": "https://localhost:8080/",
          "height": 317
        },
        "id": "7U2mEoeShtUQ",
        "outputId": "761cf467-41e0-4b7a-ad0a-ebc0c314035e"
      },
      "source": [
        "#statistical description of data\n",
        "df_cvd.describe()"
      ],
      "execution_count": 432,
      "outputs": [
        {
          "output_type": "execute_result",
          "data": {
            "text/html": [
              "<div>\n",
              "<style scoped>\n",
              "    .dataframe tbody tr th:only-of-type {\n",
              "        vertical-align: middle;\n",
              "    }\n",
              "\n",
              "    .dataframe tbody tr th {\n",
              "        vertical-align: top;\n",
              "    }\n",
              "\n",
              "    .dataframe thead th {\n",
              "        text-align: right;\n",
              "    }\n",
              "</style>\n",
              "<table border=\"1\" class=\"dataframe\">\n",
              "  <thead>\n",
              "    <tr style=\"text-align: right;\">\n",
              "      <th></th>\n",
              "      <th>cvd_risk</th>\n",
              "      <th>age</th>\n",
              "      <th>race</th>\n",
              "      <th>education_level</th>\n",
              "      <th>marital_status</th>\n",
              "      <th>hip</th>\n",
              "      <th>neck</th>\n",
              "      <th>waist</th>\n",
              "      <th>av_weight_kg</th>\n",
              "      <th>cigarette_consumption</th>\n",
              "      <th>caffeine_consumption</th>\n",
              "      <th>hypertension</th>\n",
              "      <th>diabetes</th>\n",
              "      <th>bending</th>\n",
              "      <th>happiness</th>\n",
              "      <th>fatigue</th>\n",
              "      <th>activity</th>\n",
              "    </tr>\n",
              "  </thead>\n",
              "  <tbody>\n",
              "    <tr>\n",
              "      <th>count</th>\n",
              "      <td>3242.000000</td>\n",
              "      <td>3242.000000</td>\n",
              "      <td>3242.000000</td>\n",
              "      <td>3242.000000</td>\n",
              "      <td>3242.000000</td>\n",
              "      <td>3242.000000</td>\n",
              "      <td>3242.000000</td>\n",
              "      <td>3242.000000</td>\n",
              "      <td>3242.000000</td>\n",
              "      <td>3242.000000</td>\n",
              "      <td>3242.000000</td>\n",
              "      <td>3242.000000</td>\n",
              "      <td>3242.000000</td>\n",
              "      <td>3242.000000</td>\n",
              "      <td>3242.000000</td>\n",
              "      <td>3242.000000</td>\n",
              "      <td>3242.000000</td>\n",
              "    </tr>\n",
              "    <tr>\n",
              "      <th>mean</th>\n",
              "      <td>0.590068</td>\n",
              "      <td>64.828809</td>\n",
              "      <td>1.094695</td>\n",
              "      <td>2.326342</td>\n",
              "      <td>1.368600</td>\n",
              "      <td>105.404832</td>\n",
              "      <td>37.550719</td>\n",
              "      <td>97.209904</td>\n",
              "      <td>82.945928</td>\n",
              "      <td>12.904010</td>\n",
              "      <td>0.430907</td>\n",
              "      <td>0.327884</td>\n",
              "      <td>0.067551</td>\n",
              "      <td>2.473782</td>\n",
              "      <td>2.281308</td>\n",
              "      <td>4.292721</td>\n",
              "      <td>3.864898</td>\n",
              "    </tr>\n",
              "    <tr>\n",
              "      <th>std</th>\n",
              "      <td>0.491897</td>\n",
              "      <td>10.400496</td>\n",
              "      <td>0.358237</td>\n",
              "      <td>0.697934</td>\n",
              "      <td>0.933871</td>\n",
              "      <td>10.280402</td>\n",
              "      <td>4.101003</td>\n",
              "      <td>13.598060</td>\n",
              "      <td>7.849650</td>\n",
              "      <td>20.156736</td>\n",
              "      <td>1.242444</td>\n",
              "      <td>0.469515</td>\n",
              "      <td>0.251012</td>\n",
              "      <td>0.672158</td>\n",
              "      <td>0.951695</td>\n",
              "      <td>1.021099</td>\n",
              "      <td>0.614247</td>\n",
              "    </tr>\n",
              "    <tr>\n",
              "      <th>min</th>\n",
              "      <td>0.000000</td>\n",
              "      <td>39.000000</td>\n",
              "      <td>1.000000</td>\n",
              "      <td>1.000000</td>\n",
              "      <td>1.000000</td>\n",
              "      <td>44.000000</td>\n",
              "      <td>25.000000</td>\n",
              "      <td>67.000000</td>\n",
              "      <td>57.400000</td>\n",
              "      <td>0.000000</td>\n",
              "      <td>0.000000</td>\n",
              "      <td>0.000000</td>\n",
              "      <td>0.000000</td>\n",
              "      <td>1.000000</td>\n",
              "      <td>1.000000</td>\n",
              "      <td>1.000000</td>\n",
              "      <td>1.000000</td>\n",
              "    </tr>\n",
              "    <tr>\n",
              "      <th>25%</th>\n",
              "      <td>0.000000</td>\n",
              "      <td>57.000000</td>\n",
              "      <td>1.000000</td>\n",
              "      <td>2.000000</td>\n",
              "      <td>1.000000</td>\n",
              "      <td>99.000000</td>\n",
              "      <td>34.425000</td>\n",
              "      <td>88.000000</td>\n",
              "      <td>78.200000</td>\n",
              "      <td>0.000000</td>\n",
              "      <td>0.000000</td>\n",
              "      <td>0.000000</td>\n",
              "      <td>0.000000</td>\n",
              "      <td>2.000000</td>\n",
              "      <td>2.000000</td>\n",
              "      <td>4.000000</td>\n",
              "      <td>4.000000</td>\n",
              "    </tr>\n",
              "    <tr>\n",
              "      <th>50%</th>\n",
              "      <td>1.000000</td>\n",
              "      <td>65.000000</td>\n",
              "      <td>1.000000</td>\n",
              "      <td>2.000000</td>\n",
              "      <td>1.000000</td>\n",
              "      <td>104.000000</td>\n",
              "      <td>37.150000</td>\n",
              "      <td>97.000000</td>\n",
              "      <td>82.550000</td>\n",
              "      <td>0.300000</td>\n",
              "      <td>0.000000</td>\n",
              "      <td>0.000000</td>\n",
              "      <td>0.000000</td>\n",
              "      <td>3.000000</td>\n",
              "      <td>2.000000</td>\n",
              "      <td>4.000000</td>\n",
              "      <td>4.000000</td>\n",
              "    </tr>\n",
              "    <tr>\n",
              "      <th>75%</th>\n",
              "      <td>1.000000</td>\n",
              "      <td>73.000000</td>\n",
              "      <td>1.000000</td>\n",
              "      <td>3.000000</td>\n",
              "      <td>1.000000</td>\n",
              "      <td>110.000000</td>\n",
              "      <td>40.500000</td>\n",
              "      <td>106.000000</td>\n",
              "      <td>86.575000</td>\n",
              "      <td>20.475000</td>\n",
              "      <td>0.000000</td>\n",
              "      <td>1.000000</td>\n",
              "      <td>0.000000</td>\n",
              "      <td>3.000000</td>\n",
              "      <td>3.000000</td>\n",
              "      <td>5.000000</td>\n",
              "      <td>4.000000</td>\n",
              "    </tr>\n",
              "    <tr>\n",
              "      <th>max</th>\n",
              "      <td>1.000000</td>\n",
              "      <td>90.000000</td>\n",
              "      <td>3.000000</td>\n",
              "      <td>4.000000</td>\n",
              "      <td>8.000000</td>\n",
              "      <td>168.000000</td>\n",
              "      <td>53.000000</td>\n",
              "      <td>135.000000</td>\n",
              "      <td>136.700000</td>\n",
              "      <td>170.500000</td>\n",
              "      <td>30.000000</td>\n",
              "      <td>1.000000</td>\n",
              "      <td>1.000000</td>\n",
              "      <td>3.000000</td>\n",
              "      <td>6.000000</td>\n",
              "      <td>6.000000</td>\n",
              "      <td>5.000000</td>\n",
              "    </tr>\n",
              "  </tbody>\n",
              "</table>\n",
              "</div>"
            ],
            "text/plain": [
              "          cvd_risk          age  ...      fatigue     activity\n",
              "count  3242.000000  3242.000000  ...  3242.000000  3242.000000\n",
              "mean      0.590068    64.828809  ...     4.292721     3.864898\n",
              "std       0.491897    10.400496  ...     1.021099     0.614247\n",
              "min       0.000000    39.000000  ...     1.000000     1.000000\n",
              "25%       0.000000    57.000000  ...     4.000000     4.000000\n",
              "50%       1.000000    65.000000  ...     4.000000     4.000000\n",
              "75%       1.000000    73.000000  ...     5.000000     4.000000\n",
              "max       1.000000    90.000000  ...     6.000000     5.000000\n",
              "\n",
              "[8 rows x 17 columns]"
            ]
          },
          "metadata": {
            "tags": []
          },
          "execution_count": 432
        }
      ]
    },
    {
      "cell_type": "code",
      "metadata": {
        "colab": {
          "base_uri": "https://localhost:8080/"
        },
        "id": "lq4_NTTYh2Uw",
        "outputId": "4764cef7-58ca-4608-d007-5316fbc4d8cc"
      },
      "source": [
        "#displaying range, column, number of non-null objects of each column, datatype, and memory usage\n",
        "df_cvd.info()"
      ],
      "execution_count": 433,
      "outputs": [
        {
          "output_type": "stream",
          "text": [
            "<class 'pandas.core.frame.DataFrame'>\n",
            "RangeIndex: 3242 entries, 0 to 3241\n",
            "Data columns (total 17 columns):\n",
            " #   Column                 Non-Null Count  Dtype  \n",
            "---  ------                 --------------  -----  \n",
            " 0   cvd_risk               3242 non-null   int64  \n",
            " 1   age                    3242 non-null   int64  \n",
            " 2   race                   3242 non-null   int64  \n",
            " 3   education_level        3242 non-null   int64  \n",
            " 4   marital_status         3242 non-null   int64  \n",
            " 5   hip                    3242 non-null   float64\n",
            " 6   neck                   3242 non-null   float64\n",
            " 7   waist                  3242 non-null   float64\n",
            " 8   av_weight_kg           3242 non-null   float64\n",
            " 9   cigarette_consumption  3242 non-null   float64\n",
            " 10  caffeine_consumption   3242 non-null   int64  \n",
            " 11  hypertension           3242 non-null   int64  \n",
            " 12  diabetes               3242 non-null   int64  \n",
            " 13  bending                3242 non-null   int64  \n",
            " 14  happiness              3242 non-null   int64  \n",
            " 15  fatigue                3242 non-null   int64  \n",
            " 16  activity               3242 non-null   int64  \n",
            "dtypes: float64(5), int64(12)\n",
            "memory usage: 430.7 KB\n"
          ],
          "name": "stdout"
        }
      ]
    },
    {
      "cell_type": "code",
      "metadata": {
        "colab": {
          "base_uri": "https://localhost:8080/",
          "height": 224
        },
        "id": "FICZFbhPh8Fz",
        "outputId": "a6bf9168-003b-4e49-f665-3e26af0e1d2d"
      },
      "source": [
        "#displaying top 5 and bottom 5 records\n",
        "df_cvd.head()\n",
        "df_cvd.tail()"
      ],
      "execution_count": 434,
      "outputs": [
        {
          "output_type": "execute_result",
          "data": {
            "text/html": [
              "<div>\n",
              "<style scoped>\n",
              "    .dataframe tbody tr th:only-of-type {\n",
              "        vertical-align: middle;\n",
              "    }\n",
              "\n",
              "    .dataframe tbody tr th {\n",
              "        vertical-align: top;\n",
              "    }\n",
              "\n",
              "    .dataframe thead th {\n",
              "        text-align: right;\n",
              "    }\n",
              "</style>\n",
              "<table border=\"1\" class=\"dataframe\">\n",
              "  <thead>\n",
              "    <tr style=\"text-align: right;\">\n",
              "      <th></th>\n",
              "      <th>cvd_risk</th>\n",
              "      <th>age</th>\n",
              "      <th>race</th>\n",
              "      <th>education_level</th>\n",
              "      <th>marital_status</th>\n",
              "      <th>hip</th>\n",
              "      <th>neck</th>\n",
              "      <th>waist</th>\n",
              "      <th>av_weight_kg</th>\n",
              "      <th>cigarette_consumption</th>\n",
              "      <th>caffeine_consumption</th>\n",
              "      <th>hypertension</th>\n",
              "      <th>diabetes</th>\n",
              "      <th>bending</th>\n",
              "      <th>happiness</th>\n",
              "      <th>fatigue</th>\n",
              "      <th>activity</th>\n",
              "    </tr>\n",
              "  </thead>\n",
              "  <tbody>\n",
              "    <tr>\n",
              "      <th>3237</th>\n",
              "      <td>1</td>\n",
              "      <td>66</td>\n",
              "      <td>1</td>\n",
              "      <td>2</td>\n",
              "      <td>1</td>\n",
              "      <td>95.0</td>\n",
              "      <td>41.5</td>\n",
              "      <td>99.0</td>\n",
              "      <td>88.2</td>\n",
              "      <td>0.0</td>\n",
              "      <td>0</td>\n",
              "      <td>1</td>\n",
              "      <td>0</td>\n",
              "      <td>2</td>\n",
              "      <td>2</td>\n",
              "      <td>5</td>\n",
              "      <td>4</td>\n",
              "    </tr>\n",
              "    <tr>\n",
              "      <th>3238</th>\n",
              "      <td>1</td>\n",
              "      <td>54</td>\n",
              "      <td>1</td>\n",
              "      <td>3</td>\n",
              "      <td>1</td>\n",
              "      <td>99.0</td>\n",
              "      <td>34.9</td>\n",
              "      <td>99.0</td>\n",
              "      <td>83.3</td>\n",
              "      <td>30.0</td>\n",
              "      <td>0</td>\n",
              "      <td>0</td>\n",
              "      <td>0</td>\n",
              "      <td>3</td>\n",
              "      <td>3</td>\n",
              "      <td>3</td>\n",
              "      <td>4</td>\n",
              "    </tr>\n",
              "    <tr>\n",
              "      <th>3239</th>\n",
              "      <td>1</td>\n",
              "      <td>55</td>\n",
              "      <td>1</td>\n",
              "      <td>4</td>\n",
              "      <td>1</td>\n",
              "      <td>101.0</td>\n",
              "      <td>37.0</td>\n",
              "      <td>91.0</td>\n",
              "      <td>75.2</td>\n",
              "      <td>0.0</td>\n",
              "      <td>0</td>\n",
              "      <td>0</td>\n",
              "      <td>0</td>\n",
              "      <td>3</td>\n",
              "      <td>2</td>\n",
              "      <td>5</td>\n",
              "      <td>4</td>\n",
              "    </tr>\n",
              "    <tr>\n",
              "      <th>3240</th>\n",
              "      <td>1</td>\n",
              "      <td>53</td>\n",
              "      <td>1</td>\n",
              "      <td>2</td>\n",
              "      <td>1</td>\n",
              "      <td>98.0</td>\n",
              "      <td>39.0</td>\n",
              "      <td>93.0</td>\n",
              "      <td>79.0</td>\n",
              "      <td>0.0</td>\n",
              "      <td>0</td>\n",
              "      <td>0</td>\n",
              "      <td>0</td>\n",
              "      <td>2</td>\n",
              "      <td>2</td>\n",
              "      <td>5</td>\n",
              "      <td>4</td>\n",
              "    </tr>\n",
              "    <tr>\n",
              "      <th>3241</th>\n",
              "      <td>1</td>\n",
              "      <td>54</td>\n",
              "      <td>1</td>\n",
              "      <td>2</td>\n",
              "      <td>1</td>\n",
              "      <td>109.0</td>\n",
              "      <td>48.6</td>\n",
              "      <td>112.0</td>\n",
              "      <td>93.5</td>\n",
              "      <td>39.0</td>\n",
              "      <td>0</td>\n",
              "      <td>1</td>\n",
              "      <td>0</td>\n",
              "      <td>3</td>\n",
              "      <td>2</td>\n",
              "      <td>5</td>\n",
              "      <td>4</td>\n",
              "    </tr>\n",
              "  </tbody>\n",
              "</table>\n",
              "</div>"
            ],
            "text/plain": [
              "      cvd_risk  age  race  ...  happiness  fatigue  activity\n",
              "3237         1   66     1  ...          2        5         4\n",
              "3238         1   54     1  ...          3        3         4\n",
              "3239         1   55     1  ...          2        5         4\n",
              "3240         1   53     1  ...          2        5         4\n",
              "3241         1   54     1  ...          2        5         4\n",
              "\n",
              "[5 rows x 17 columns]"
            ]
          },
          "metadata": {
            "tags": []
          },
          "execution_count": 434
        }
      ]
    },
    {
      "cell_type": "markdown",
      "metadata": {
        "id": "mQAcJY1XiFAo"
      },
      "source": [
        "#**Exploratory Data Analysis**"
      ]
    },
    {
      "cell_type": "code",
      "metadata": {
        "colab": {
          "base_uri": "https://localhost:8080/",
          "height": 71
        },
        "id": "ipCFtc9cizhR",
        "outputId": "3c490f58-23de-48be-80b8-3b58c7170bac"
      },
      "source": [
        "#comparing cardiovascular disease risk variable\n",
        "#0 = No Risk, 1 = Risk Present\n",
        "sn.countplot(x='cvd_risk', data=df_cvd)\n",
        "plt.title('Cardiovascular Disease Risk', fontsize = 15)"
      ],
      "execution_count": 435,
      "outputs": [
        {
          "output_type": "execute_result",
          "data": {
            "text/plain": [
              "Text(0.5, 1.0, 'Cardiovascular Disease Risk')"
            ]
          },
          "metadata": {
            "tags": []
          },
          "execution_count": 435
        },
        {
          "output_type": "display_data",
          "data": {
            "image/png": "[encoded data removed]",
            "text/plain": [
              "<Figure size 432x288 with 1 Axes>"
            ]
          },
          "metadata": {
            "tags": [],
            "needs_background": "light"
          }
        }
      ]
    },
    {
      "cell_type": "code",
      "metadata": {
        "colab": {
          "base_uri": "https://localhost:8080/",
          "height": 596
        },
        "id": "BY5e-UhY0U3H",
        "outputId": "a63c15ea-908e-4e77-9fe5-f142f7897852"
      },
      "source": [
        "#checking correlation coefficient for each variable\n",
        "df_cvd.corr()"
      ],
      "execution_count": 436,
      "outputs": [
        {
          "output_type": "execute_result",
          "data": {
            "text/html": [
              "<div>\n",
              "<style scoped>\n",
              "    .dataframe tbody tr th:only-of-type {\n",
              "        vertical-align: middle;\n",
              "    }\n",
              "\n",
              "    .dataframe tbody tr th {\n",
              "        vertical-align: top;\n",
              "    }\n",
              "\n",
              "    .dataframe thead th {\n",
              "        text-align: right;\n",
              "    }\n",
              "</style>\n",
              "<table border=\"1\" class=\"dataframe\">\n",
              "  <thead>\n",
              "    <tr style=\"text-align: right;\">\n",
              "      <th></th>\n",
              "      <th>cvd_risk</th>\n",
              "      <th>age</th>\n",
              "      <th>race</th>\n",
              "      <th>education_level</th>\n",
              "      <th>marital_status</th>\n",
              "      <th>hip</th>\n",
              "      <th>neck</th>\n",
              "      <th>waist</th>\n",
              "      <th>av_weight_kg</th>\n",
              "      <th>cigarette_consumption</th>\n",
              "      <th>caffeine_consumption</th>\n",
              "      <th>hypertension</th>\n",
              "      <th>diabetes</th>\n",
              "      <th>bending</th>\n",
              "      <th>happiness</th>\n",
              "      <th>fatigue</th>\n",
              "      <th>activity</th>\n",
              "    </tr>\n",
              "  </thead>\n",
              "  <tbody>\n",
              "    <tr>\n",
              "      <th>cvd_risk</th>\n",
              "      <td>1.000000</td>\n",
              "      <td>0.089168</td>\n",
              "      <td>-0.143843</td>\n",
              "      <td>0.053662</td>\n",
              "      <td>-0.076659</td>\n",
              "      <td>0.018482</td>\n",
              "      <td>0.101653</td>\n",
              "      <td>0.203104</td>\n",
              "      <td>0.058616</td>\n",
              "      <td>0.037151</td>\n",
              "      <td>-0.028436</td>\n",
              "      <td>0.071819</td>\n",
              "      <td>0.074406</td>\n",
              "      <td>-0.009653</td>\n",
              "      <td>-0.033048</td>\n",
              "      <td>0.022130</td>\n",
              "      <td>-0.126168</td>\n",
              "    </tr>\n",
              "    <tr>\n",
              "      <th>age</th>\n",
              "      <td>0.089168</td>\n",
              "      <td>1.000000</td>\n",
              "      <td>0.000626</td>\n",
              "      <td>-0.207595</td>\n",
              "      <td>0.013170</td>\n",
              "      <td>-0.121743</td>\n",
              "      <td>-0.001135</td>\n",
              "      <td>0.086363</td>\n",
              "      <td>0.073152</td>\n",
              "      <td>0.072336</td>\n",
              "      <td>-0.007279</td>\n",
              "      <td>0.268032</td>\n",
              "      <td>0.140819</td>\n",
              "      <td>-0.224303</td>\n",
              "      <td>-0.044323</td>\n",
              "      <td>0.012448</td>\n",
              "      <td>-0.164790</td>\n",
              "    </tr>\n",
              "    <tr>\n",
              "      <th>race</th>\n",
              "      <td>-0.143843</td>\n",
              "      <td>0.000626</td>\n",
              "      <td>1.000000</td>\n",
              "      <td>-0.061934</td>\n",
              "      <td>0.058878</td>\n",
              "      <td>0.030535</td>\n",
              "      <td>-0.010810</td>\n",
              "      <td>0.012960</td>\n",
              "      <td>0.045118</td>\n",
              "      <td>-0.040240</td>\n",
              "      <td>-0.005746</td>\n",
              "      <td>0.053822</td>\n",
              "      <td>0.079818</td>\n",
              "      <td>-0.064647</td>\n",
              "      <td>0.005103</td>\n",
              "      <td>-0.014226</td>\n",
              "      <td>-0.117117</td>\n",
              "    </tr>\n",
              "    <tr>\n",
              "      <th>education_level</th>\n",
              "      <td>0.053662</td>\n",
              "      <td>-0.207595</td>\n",
              "      <td>-0.061934</td>\n",
              "      <td>1.000000</td>\n",
              "      <td>0.026047</td>\n",
              "      <td>-0.008162</td>\n",
              "      <td>0.000856</td>\n",
              "      <td>-0.057212</td>\n",
              "      <td>-0.052692</td>\n",
              "      <td>-0.047632</td>\n",
              "      <td>0.022097</td>\n",
              "      <td>-0.110072</td>\n",
              "      <td>-0.117066</td>\n",
              "      <td>0.166887</td>\n",
              "      <td>-0.093659</td>\n",
              "      <td>0.079794</td>\n",
              "      <td>0.096398</td>\n",
              "    </tr>\n",
              "    <tr>\n",
              "      <th>marital_status</th>\n",
              "      <td>-0.076659</td>\n",
              "      <td>0.013170</td>\n",
              "      <td>0.058878</td>\n",
              "      <td>0.026047</td>\n",
              "      <td>1.000000</td>\n",
              "      <td>0.012425</td>\n",
              "      <td>-0.078962</td>\n",
              "      <td>-0.044175</td>\n",
              "      <td>-0.046429</td>\n",
              "      <td>-0.006983</td>\n",
              "      <td>0.012250</td>\n",
              "      <td>-0.002689</td>\n",
              "      <td>0.012210</td>\n",
              "      <td>-0.016304</td>\n",
              "      <td>0.033619</td>\n",
              "      <td>-0.031645</td>\n",
              "      <td>-0.055162</td>\n",
              "    </tr>\n",
              "    <tr>\n",
              "      <th>hip</th>\n",
              "      <td>0.018482</td>\n",
              "      <td>-0.121743</td>\n",
              "      <td>0.030535</td>\n",
              "      <td>-0.008162</td>\n",
              "      <td>0.012425</td>\n",
              "      <td>1.000000</td>\n",
              "      <td>0.321828</td>\n",
              "      <td>0.710743</td>\n",
              "      <td>0.428565</td>\n",
              "      <td>-0.006662</td>\n",
              "      <td>0.003894</td>\n",
              "      <td>0.121578</td>\n",
              "      <td>0.085835</td>\n",
              "      <td>-0.229975</td>\n",
              "      <td>0.029561</td>\n",
              "      <td>-0.131190</td>\n",
              "      <td>-0.096214</td>\n",
              "    </tr>\n",
              "    <tr>\n",
              "      <th>neck</th>\n",
              "      <td>0.101653</td>\n",
              "      <td>-0.001135</td>\n",
              "      <td>-0.010810</td>\n",
              "      <td>0.000856</td>\n",
              "      <td>-0.078962</td>\n",
              "      <td>0.321828</td>\n",
              "      <td>1.000000</td>\n",
              "      <td>0.617500</td>\n",
              "      <td>0.525890</td>\n",
              "      <td>0.190235</td>\n",
              "      <td>0.022729</td>\n",
              "      <td>0.105139</td>\n",
              "      <td>0.118303</td>\n",
              "      <td>-0.091327</td>\n",
              "      <td>0.008170</td>\n",
              "      <td>0.002945</td>\n",
              "      <td>-0.010144</td>\n",
              "    </tr>\n",
              "    <tr>\n",
              "      <th>waist</th>\n",
              "      <td>0.203104</td>\n",
              "      <td>0.086363</td>\n",
              "      <td>0.012960</td>\n",
              "      <td>-0.057212</td>\n",
              "      <td>-0.044175</td>\n",
              "      <td>0.710743</td>\n",
              "      <td>0.617500</td>\n",
              "      <td>1.000000</td>\n",
              "      <td>0.641330</td>\n",
              "      <td>0.112615</td>\n",
              "      <td>0.014916</td>\n",
              "      <td>0.201122</td>\n",
              "      <td>0.134582</td>\n",
              "      <td>-0.246275</td>\n",
              "      <td>0.020475</td>\n",
              "      <td>-0.091524</td>\n",
              "      <td>-0.111527</td>\n",
              "    </tr>\n",
              "    <tr>\n",
              "      <th>av_weight_kg</th>\n",
              "      <td>0.058616</td>\n",
              "      <td>0.073152</td>\n",
              "      <td>0.045118</td>\n",
              "      <td>-0.052692</td>\n",
              "      <td>-0.046429</td>\n",
              "      <td>0.428565</td>\n",
              "      <td>0.525890</td>\n",
              "      <td>0.641330</td>\n",
              "      <td>1.000000</td>\n",
              "      <td>0.111671</td>\n",
              "      <td>0.013763</td>\n",
              "      <td>0.196695</td>\n",
              "      <td>0.094746</td>\n",
              "      <td>-0.155036</td>\n",
              "      <td>0.028020</td>\n",
              "      <td>-0.054466</td>\n",
              "      <td>-0.015056</td>\n",
              "    </tr>\n",
              "    <tr>\n",
              "      <th>cigarette_consumption</th>\n",
              "      <td>0.037151</td>\n",
              "      <td>0.072336</td>\n",
              "      <td>-0.040240</td>\n",
              "      <td>-0.047632</td>\n",
              "      <td>-0.006983</td>\n",
              "      <td>-0.006662</td>\n",
              "      <td>0.190235</td>\n",
              "      <td>0.112615</td>\n",
              "      <td>0.111671</td>\n",
              "      <td>1.000000</td>\n",
              "      <td>0.000500</td>\n",
              "      <td>0.013163</td>\n",
              "      <td>0.044049</td>\n",
              "      <td>-0.056544</td>\n",
              "      <td>0.026469</td>\n",
              "      <td>-0.051990</td>\n",
              "      <td>-0.030523</td>\n",
              "    </tr>\n",
              "    <tr>\n",
              "      <th>caffeine_consumption</th>\n",
              "      <td>-0.028436</td>\n",
              "      <td>-0.007279</td>\n",
              "      <td>-0.005746</td>\n",
              "      <td>0.022097</td>\n",
              "      <td>0.012250</td>\n",
              "      <td>0.003894</td>\n",
              "      <td>0.022729</td>\n",
              "      <td>0.014916</td>\n",
              "      <td>0.013763</td>\n",
              "      <td>0.000500</td>\n",
              "      <td>1.000000</td>\n",
              "      <td>-0.018012</td>\n",
              "      <td>-0.012237</td>\n",
              "      <td>0.011131</td>\n",
              "      <td>-0.004694</td>\n",
              "      <td>0.002935</td>\n",
              "      <td>0.022939</td>\n",
              "    </tr>\n",
              "    <tr>\n",
              "      <th>hypertension</th>\n",
              "      <td>0.071819</td>\n",
              "      <td>0.268032</td>\n",
              "      <td>0.053822</td>\n",
              "      <td>-0.110072</td>\n",
              "      <td>-0.002689</td>\n",
              "      <td>0.121578</td>\n",
              "      <td>0.105139</td>\n",
              "      <td>0.201122</td>\n",
              "      <td>0.196695</td>\n",
              "      <td>0.013163</td>\n",
              "      <td>-0.018012</td>\n",
              "      <td>1.000000</td>\n",
              "      <td>0.134026</td>\n",
              "      <td>-0.154113</td>\n",
              "      <td>0.048315</td>\n",
              "      <td>-0.085701</td>\n",
              "      <td>-0.141636</td>\n",
              "    </tr>\n",
              "    <tr>\n",
              "      <th>diabetes</th>\n",
              "      <td>0.074406</td>\n",
              "      <td>0.140819</td>\n",
              "      <td>0.079818</td>\n",
              "      <td>-0.117066</td>\n",
              "      <td>0.012210</td>\n",
              "      <td>0.085835</td>\n",
              "      <td>0.118303</td>\n",
              "      <td>0.134582</td>\n",
              "      <td>0.094746</td>\n",
              "      <td>0.044049</td>\n",
              "      <td>-0.012237</td>\n",
              "      <td>0.134026</td>\n",
              "      <td>1.000000</td>\n",
              "      <td>-0.122084</td>\n",
              "      <td>0.039256</td>\n",
              "      <td>-0.037445</td>\n",
              "      <td>-0.090878</td>\n",
              "    </tr>\n",
              "    <tr>\n",
              "      <th>bending</th>\n",
              "      <td>-0.009653</td>\n",
              "      <td>-0.224303</td>\n",
              "      <td>-0.064647</td>\n",
              "      <td>0.166887</td>\n",
              "      <td>-0.016304</td>\n",
              "      <td>-0.229975</td>\n",
              "      <td>-0.091327</td>\n",
              "      <td>-0.246275</td>\n",
              "      <td>-0.155036</td>\n",
              "      <td>-0.056544</td>\n",
              "      <td>0.011131</td>\n",
              "      <td>-0.154113</td>\n",
              "      <td>-0.122084</td>\n",
              "      <td>1.000000</td>\n",
              "      <td>-0.152462</td>\n",
              "      <td>0.283390</td>\n",
              "      <td>0.267927</td>\n",
              "    </tr>\n",
              "    <tr>\n",
              "      <th>happiness</th>\n",
              "      <td>-0.033048</td>\n",
              "      <td>-0.044323</td>\n",
              "      <td>0.005103</td>\n",
              "      <td>-0.093659</td>\n",
              "      <td>0.033619</td>\n",
              "      <td>0.029561</td>\n",
              "      <td>0.008170</td>\n",
              "      <td>0.020475</td>\n",
              "      <td>0.028020</td>\n",
              "      <td>0.026469</td>\n",
              "      <td>-0.004694</td>\n",
              "      <td>0.048315</td>\n",
              "      <td>0.039256</td>\n",
              "      <td>-0.152462</td>\n",
              "      <td>1.000000</td>\n",
              "      <td>-0.320671</td>\n",
              "      <td>-0.209958</td>\n",
              "    </tr>\n",
              "    <tr>\n",
              "      <th>fatigue</th>\n",
              "      <td>0.022130</td>\n",
              "      <td>0.012448</td>\n",
              "      <td>-0.014226</td>\n",
              "      <td>0.079794</td>\n",
              "      <td>-0.031645</td>\n",
              "      <td>-0.131190</td>\n",
              "      <td>0.002945</td>\n",
              "      <td>-0.091524</td>\n",
              "      <td>-0.054466</td>\n",
              "      <td>-0.051990</td>\n",
              "      <td>0.002935</td>\n",
              "      <td>-0.085701</td>\n",
              "      <td>-0.037445</td>\n",
              "      <td>0.283390</td>\n",
              "      <td>-0.320671</td>\n",
              "      <td>1.000000</td>\n",
              "      <td>0.327735</td>\n",
              "    </tr>\n",
              "    <tr>\n",
              "      <th>activity</th>\n",
              "      <td>-0.126168</td>\n",
              "      <td>-0.164790</td>\n",
              "      <td>-0.117117</td>\n",
              "      <td>0.096398</td>\n",
              "      <td>-0.055162</td>\n",
              "      <td>-0.096214</td>\n",
              "      <td>-0.010144</td>\n",
              "      <td>-0.111527</td>\n",
              "      <td>-0.015056</td>\n",
              "      <td>-0.030523</td>\n",
              "      <td>0.022939</td>\n",
              "      <td>-0.141636</td>\n",
              "      <td>-0.090878</td>\n",
              "      <td>0.267927</td>\n",
              "      <td>-0.209958</td>\n",
              "      <td>0.327735</td>\n",
              "      <td>1.000000</td>\n",
              "    </tr>\n",
              "  </tbody>\n",
              "</table>\n",
              "</div>"
            ],
            "text/plain": [
              "                       cvd_risk       age  ...   fatigue  activity\n",
              "cvd_risk               1.000000  0.089168  ...  0.022130 -0.126168\n",
              "age                    0.089168  1.000000  ...  0.012448 -0.164790\n",
              "race                  -0.143843  0.000626  ... -0.014226 -0.117117\n",
              "education_level        0.053662 -0.207595  ...  0.079794  0.096398\n",
              "marital_status        -0.076659  0.013170  ... -0.031645 -0.055162\n",
              "hip                    0.018482 -0.121743  ... -0.131190 -0.096214\n",
              "neck                   0.101653 -0.001135  ...  0.002945 -0.010144\n",
              "waist                  0.203104  0.086363  ... -0.091524 -0.111527\n",
              "av_weight_kg           0.058616  0.073152  ... -0.054466 -0.015056\n",
              "cigarette_consumption  0.037151  0.072336  ... -0.051990 -0.030523\n",
              "caffeine_consumption  -0.028436 -0.007279  ...  0.002935  0.022939\n",
              "hypertension           0.071819  0.268032  ... -0.085701 -0.141636\n",
              "diabetes               0.074406  0.140819  ... -0.037445 -0.090878\n",
              "bending               -0.009653 -0.224303  ...  0.283390  0.267927\n",
              "happiness             -0.033048 -0.044323  ... -0.320671 -0.209958\n",
              "fatigue                0.022130  0.012448  ...  1.000000  0.327735\n",
              "activity              -0.126168 -0.164790  ...  0.327735  1.000000\n",
              "\n",
              "[17 rows x 17 columns]"
            ]
          },
          "metadata": {
            "tags": []
          },
          "execution_count": 436
        }
      ]
    },
    {
      "cell_type": "code",
      "metadata": {
        "colab": {
          "base_uri": "https://localhost:8080/",
          "height": 71
        },
        "id": "EFT49q6V0lw_",
        "outputId": "77dd07c1-f0fc-4082-82c4-310cf809d4f5"
      },
      "source": [
        "#checking for multi-collinearity\n",
        "plt.figure(figsize=(20,8))\n",
        "\n",
        "mask = np.triu(np.ones_like(df_cvd.corr(), dtype=np.bool))\n",
        "\n",
        "heatmap = sn.heatmap(df_cvd.corr(), mask=mask, annot=True, cmap=\"vlag\", linewidths=.5)\n",
        "heatmap.set_title('Correlation Heatmap', fontdict={'fontsize':12}, pad=12)"
      ],
      "execution_count": 437,
      "outputs": [
        {
          "output_type": "execute_result",
          "data": {
            "text/plain": [
              "Text(0.5, 1.0, 'Correlation Heatmap')"
            ]
          },
          "metadata": {
            "tags": []
          },
          "execution_count": 437
        },
        {
          "output_type": "display_data",
          "data": {
            "image/png": "[encoded data removed]",
            "text/plain": [
              "<Figure size 1440x576 with 2 Axes>"
            ]
          },
          "metadata": {
            "tags": [],
            "needs_background": "light"
          }
        }
      ]
    },
    {
      "cell_type": "code",
      "metadata": {
        "id": "rVgs0BIG05a4"
      },
      "source": [
        "#dropping waist as it has a multi-collinearity problem with hip\n",
        "df_cvd = df_cvd.drop('waist', axis = 'columns')"
      ],
      "execution_count": 438,
      "outputs": []
    },
    {
      "cell_type": "markdown",
      "metadata": {
        "id": "1Bf9bXWZr7IY"
      },
      "source": [
        "#**Splitting The Data**"
      ]
    },
    {
      "cell_type": "code",
      "metadata": {
        "id": "4aYtTG8pbXTC"
      },
      "source": [
        "#defining x and y\n",
        "x = df_cvd[['age', 'race', 'education_level', 'marital_status', 'hip',\n",
        "       'neck', 'av_weight_kg', 'cigarette_consumption',\n",
        "       'caffeine_consumption', 'hypertension', 'diabetes', 'bending',\n",
        "       'happiness', 'fatigue', 'activity']]\n",
        "y = df_cvd['cvd_risk']\n",
        "\n",
        "#splitting data into 70% training and 30% testing\n",
        "x_train,x_test,y_train,y_test = train_test_split(x,y,test_size=0.3,random_state=101)"
      ],
      "execution_count": 439,
      "outputs": []
    },
    {
      "cell_type": "markdown",
      "metadata": {
        "id": "PIABzZQ9sUBQ"
      },
      "source": [
        "#**Part 1** \n",
        "\n",
        "##**build a binary classifier model to predict the CVD Risk (Yes/No, or 1/0) using a Logistic Regression Model with the best performance possible**"
      ]
    },
    {
      "cell_type": "code",
      "metadata": {
        "colab": {
          "base_uri": "https://localhost:8080/"
        },
        "id": "udjw4WdysYOI",
        "outputId": "c37c19b7-1e9c-4166-c8b1-37a4cf821077"
      },
      "source": [
        "#creating the logistic regression model\n",
        "logreg = LogisticRegression(C=1e40, solver='newton-cg', random_state=101, penalty= 'l2')\n",
        "logreg.fit(x_train, y_train)"
      ],
      "execution_count": 440,
      "outputs": [
        {
          "output_type": "execute_result",
          "data": {
            "text/plain": [
              "LogisticRegression(C=1e+40, class_weight=None, dual=False, fit_intercept=True,\n",
              "                   intercept_scaling=1, l1_ratio=None, max_iter=100,\n",
              "                   multi_class='auto', n_jobs=None, penalty='l2',\n",
              "                   random_state=101, solver='newton-cg', tol=0.0001, verbose=0,\n",
              "                   warm_start=False)"
            ]
          },
          "metadata": {
            "tags": []
          },
          "execution_count": 440
        }
      ]
    },
    {
      "cell_type": "markdown",
      "metadata": {
        "id": "0qeQKnpTswaw"
      },
      "source": [
        "#**Part 2** \n",
        "##**Display the Feature Importance of all the features sorted in the order of decreasing influence on the CVD Risk**"
      ]
    },
    {
      "cell_type": "code",
      "metadata": {
        "colab": {
          "base_uri": "https://localhost:8080/"
        },
        "id": "6iWhI3BimZke",
        "outputId": "e5f91f21-4bf0-4b7f-b0c6-1bc9a7b8c1f4"
      },
      "source": [
        "#coefficients\n",
        "#a higher value (sign considered) of the coefficients will imply larger influence\n",
        "logreg.fit(x_train / np.std(x_train, 0), y_train)\n",
        "coeff= logreg.coef_\n",
        "print(logreg.coef_)"
      ],
      "execution_count": 408,
      "outputs": [
        {
          "output_type": "stream",
          "text": [
            "[[ 0.11067121 -0.34371312  0.18393119 -0.13408555 -0.02134661  0.13674643\n",
            "   0.08923596  0.02857231 -0.03990844  0.0810493   0.15140612  0.00321182\n",
            "  -0.0841356   0.1151847  -0.39551831]]\n"
          ],
          "name": "stdout"
        }
      ]
    },
    {
      "cell_type": "code",
      "metadata": {
        "colab": {
          "base_uri": "https://localhost:8080/",
          "height": 534
        },
        "id": "ZsmPXiwQmqEP",
        "outputId": "27aa56ad-26ad-4e16-fa45-42381720b0d9"
      },
      "source": [
        "#coefficients sorted in ascending order\n",
        "coeff_df = pd.DataFrame(logreg.coef_, columns=[x_train], index=['Coefficients'])\n",
        "coeff_df = coeff_df.transpose()\n",
        "coeff_df.sort_values('Coefficients', ascending=False)"
      ],
      "execution_count": 409,
      "outputs": [
        {
          "output_type": "execute_result",
          "data": {
            "text/html": [
              "<div>\n",
              "<style scoped>\n",
              "    .dataframe tbody tr th:only-of-type {\n",
              "        vertical-align: middle;\n",
              "    }\n",
              "\n",
              "    .dataframe tbody tr th {\n",
              "        vertical-align: top;\n",
              "    }\n",
              "\n",
              "    .dataframe thead th {\n",
              "        text-align: right;\n",
              "    }\n",
              "</style>\n",
              "<table border=\"1\" class=\"dataframe\">\n",
              "  <thead>\n",
              "    <tr style=\"text-align: right;\">\n",
              "      <th></th>\n",
              "      <th>Coefficients</th>\n",
              "    </tr>\n",
              "  </thead>\n",
              "  <tbody>\n",
              "    <tr>\n",
              "      <th>education_level</th>\n",
              "      <td>0.183931</td>\n",
              "    </tr>\n",
              "    <tr>\n",
              "      <th>diabetes</th>\n",
              "      <td>0.151406</td>\n",
              "    </tr>\n",
              "    <tr>\n",
              "      <th>neck</th>\n",
              "      <td>0.136746</td>\n",
              "    </tr>\n",
              "    <tr>\n",
              "      <th>fatigue</th>\n",
              "      <td>0.115185</td>\n",
              "    </tr>\n",
              "    <tr>\n",
              "      <th>age</th>\n",
              "      <td>0.110671</td>\n",
              "    </tr>\n",
              "    <tr>\n",
              "      <th>av_weight_kg</th>\n",
              "      <td>0.089236</td>\n",
              "    </tr>\n",
              "    <tr>\n",
              "      <th>hypertension</th>\n",
              "      <td>0.081049</td>\n",
              "    </tr>\n",
              "    <tr>\n",
              "      <th>cigarette_consumption</th>\n",
              "      <td>0.028572</td>\n",
              "    </tr>\n",
              "    <tr>\n",
              "      <th>bending</th>\n",
              "      <td>0.003212</td>\n",
              "    </tr>\n",
              "    <tr>\n",
              "      <th>hip</th>\n",
              "      <td>-0.021347</td>\n",
              "    </tr>\n",
              "    <tr>\n",
              "      <th>caffeine_consumption</th>\n",
              "      <td>-0.039908</td>\n",
              "    </tr>\n",
              "    <tr>\n",
              "      <th>happiness</th>\n",
              "      <td>-0.084136</td>\n",
              "    </tr>\n",
              "    <tr>\n",
              "      <th>marital_status</th>\n",
              "      <td>-0.134086</td>\n",
              "    </tr>\n",
              "    <tr>\n",
              "      <th>race</th>\n",
              "      <td>-0.343713</td>\n",
              "    </tr>\n",
              "    <tr>\n",
              "      <th>activity</th>\n",
              "      <td>-0.395518</td>\n",
              "    </tr>\n",
              "  </tbody>\n",
              "</table>\n",
              "</div>"
            ],
            "text/plain": [
              "                       Coefficients\n",
              "education_level            0.183931\n",
              "diabetes                   0.151406\n",
              "neck                       0.136746\n",
              "fatigue                    0.115185\n",
              "age                        0.110671\n",
              "av_weight_kg               0.089236\n",
              "hypertension               0.081049\n",
              "cigarette_consumption      0.028572\n",
              "bending                    0.003212\n",
              "hip                       -0.021347\n",
              "caffeine_consumption      -0.039908\n",
              "happiness                 -0.084136\n",
              "marital_status            -0.134086\n",
              "race                      -0.343713\n",
              "activity                  -0.395518"
            ]
          },
          "metadata": {
            "tags": []
          },
          "execution_count": 409
        }
      ]
    },
    {
      "cell_type": "code",
      "metadata": {
        "colab": {
          "base_uri": "https://localhost:8080/",
          "height": 534
        },
        "id": "-YDocAdvq6ys",
        "outputId": "72c44664-ae43-4dec-b034-604330cc7cf5"
      },
      "source": [
        "#coefficients sorted in ascending order by absolute values AKA sign considered\n",
        "coeff_df.abs().sort_values('Coefficients', ascending=False)"
      ],
      "execution_count": 410,
      "outputs": [
        {
          "output_type": "execute_result",
          "data": {
            "text/html": [
              "<div>\n",
              "<style scoped>\n",
              "    .dataframe tbody tr th:only-of-type {\n",
              "        vertical-align: middle;\n",
              "    }\n",
              "\n",
              "    .dataframe tbody tr th {\n",
              "        vertical-align: top;\n",
              "    }\n",
              "\n",
              "    .dataframe thead th {\n",
              "        text-align: right;\n",
              "    }\n",
              "</style>\n",
              "<table border=\"1\" class=\"dataframe\">\n",
              "  <thead>\n",
              "    <tr style=\"text-align: right;\">\n",
              "      <th></th>\n",
              "      <th>Coefficients</th>\n",
              "    </tr>\n",
              "  </thead>\n",
              "  <tbody>\n",
              "    <tr>\n",
              "      <th>activity</th>\n",
              "      <td>0.395518</td>\n",
              "    </tr>\n",
              "    <tr>\n",
              "      <th>race</th>\n",
              "      <td>0.343713</td>\n",
              "    </tr>\n",
              "    <tr>\n",
              "      <th>education_level</th>\n",
              "      <td>0.183931</td>\n",
              "    </tr>\n",
              "    <tr>\n",
              "      <th>diabetes</th>\n",
              "      <td>0.151406</td>\n",
              "    </tr>\n",
              "    <tr>\n",
              "      <th>neck</th>\n",
              "      <td>0.136746</td>\n",
              "    </tr>\n",
              "    <tr>\n",
              "      <th>marital_status</th>\n",
              "      <td>0.134086</td>\n",
              "    </tr>\n",
              "    <tr>\n",
              "      <th>fatigue</th>\n",
              "      <td>0.115185</td>\n",
              "    </tr>\n",
              "    <tr>\n",
              "      <th>age</th>\n",
              "      <td>0.110671</td>\n",
              "    </tr>\n",
              "    <tr>\n",
              "      <th>av_weight_kg</th>\n",
              "      <td>0.089236</td>\n",
              "    </tr>\n",
              "    <tr>\n",
              "      <th>happiness</th>\n",
              "      <td>0.084136</td>\n",
              "    </tr>\n",
              "    <tr>\n",
              "      <th>hypertension</th>\n",
              "      <td>0.081049</td>\n",
              "    </tr>\n",
              "    <tr>\n",
              "      <th>caffeine_consumption</th>\n",
              "      <td>0.039908</td>\n",
              "    </tr>\n",
              "    <tr>\n",
              "      <th>cigarette_consumption</th>\n",
              "      <td>0.028572</td>\n",
              "    </tr>\n",
              "    <tr>\n",
              "      <th>hip</th>\n",
              "      <td>0.021347</td>\n",
              "    </tr>\n",
              "    <tr>\n",
              "      <th>bending</th>\n",
              "      <td>0.003212</td>\n",
              "    </tr>\n",
              "  </tbody>\n",
              "</table>\n",
              "</div>"
            ],
            "text/plain": [
              "                       Coefficients\n",
              "activity                   0.395518\n",
              "race                       0.343713\n",
              "education_level            0.183931\n",
              "diabetes                   0.151406\n",
              "neck                       0.136746\n",
              "marital_status             0.134086\n",
              "fatigue                    0.115185\n",
              "age                        0.110671\n",
              "av_weight_kg               0.089236\n",
              "happiness                  0.084136\n",
              "hypertension               0.081049\n",
              "caffeine_consumption       0.039908\n",
              "cigarette_consumption      0.028572\n",
              "hip                        0.021347\n",
              "bending                    0.003212"
            ]
          },
          "metadata": {
            "tags": []
          },
          "execution_count": 410
        }
      ]
    },
    {
      "cell_type": "code",
      "metadata": {
        "colab": {
          "base_uri": "https://localhost:8080/",
          "height": 54
        },
        "id": "u3G7I3dErOjB",
        "outputId": "d7a01a14-dea0-4ea8-8e03-a88a8be0deda"
      },
      "source": [
        "#displaying coefficient values\n",
        "coeff_df.sort_values('Coefficients', ascending=False).plot(kind = 'bar',  figsize = (12,8), legend = None)\n",
        "plt.title('Feature Importance on CVD Risk', fontsize = 15)\n",
        "plt.xticks(rotation = 75, fontsize=12)\n",
        "plt.yticks(fontsize=12)\n",
        "plt.grid()"
      ],
      "execution_count": 411,
      "outputs": [
        {
          "output_type": "display_data",
          "data": {
            "image/png": "[encoded data removed]",
            "text/plain": [
              "<Figure size 864x576 with 1 Axes>"
            ]
          },
          "metadata": {
            "tags": [],
            "needs_background": "light"
          }
        }
      ]
    },
    {
      "cell_type": "code",
      "metadata": {
        "colab": {
          "base_uri": "https://localhost:8080/",
          "height": 54
        },
        "id": "BWypsT46rp3D",
        "outputId": "d75d2272-341b-47fd-83bf-f48df059478f"
      },
      "source": [
        "#displaying coefficient values\n",
        "plt.figure(figsize=(8, 12))\n",
        "heatmap = sn.heatmap(coeff_df.sort_values('Coefficients', ascending=False), annot=True, cmap='Blues')\n",
        "heatmap.set_title('Feature Importance on the CVD Risk', fontdict={'fontsize':18}, pad=16);"
      ],
      "execution_count": 412,
      "outputs": [
        {
          "output_type": "display_data",
          "data": {
            "image/png": "[encoded data removed]",
            "text/plain": [
              "<Figure size 576x864 with 2 Axes>"
            ]
          },
          "metadata": {
            "tags": [],
            "needs_background": "light"
          }
        }
      ]
    },
    {
      "cell_type": "markdown",
      "metadata": {
        "id": "F1_FpliGxBVh"
      },
      "source": [
        "These coefficients can provide the basis for a feature importance score. The positive scores indicate a feature that predicts class 1 (Risk Present), whereas the negative scores indicate a feature that predicts class 0 (No Risk)."
      ]
    },
    {
      "cell_type": "markdown",
      "metadata": {
        "id": "4Q_XrTDsu5wY"
      },
      "source": [
        "#**Part 3**\n",
        "\n",
        "##**Evaluate the performance of your model (including ROC Curve), explain the performance and draw a meaningful conclusion.**"
      ]
    },
    {
      "cell_type": "code",
      "metadata": {
        "colab": {
          "base_uri": "https://localhost:8080/"
        },
        "id": "tLkY4ZHGwwUC",
        "outputId": "9ff1e576-8c50-4ea3-b023-e0952b4467a2"
      },
      "source": [
        "#predicting the test set results and calculating the accuracy\n",
        "y_pred = logreg.predict(x_test)\n",
        "print('Accuracy: {:.2f}'.format(logreg.score(x_test, y_test)))"
      ],
      "execution_count": 441,
      "outputs": [
        {
          "output_type": "stream",
          "text": [
            "Accuracy: 0.66\n"
          ],
          "name": "stdout"
        }
      ]
    },
    {
      "cell_type": "code",
      "metadata": {
        "colab": {
          "base_uri": "https://localhost:8080/"
        },
        "id": "fwsFFXxDw0_P",
        "outputId": "cdb9eb51-3620-453d-e932-06053be29c82"
      },
      "source": [
        "#compute precision, recall, f1-score and support\n",
        "print(classification_report(y_test, y_pred))"
      ],
      "execution_count": 442,
      "outputs": [
        {
          "output_type": "stream",
          "text": [
            "              precision    recall  f1-score   support\n",
            "\n",
            "           0       0.71      0.36      0.48       415\n",
            "           1       0.65      0.89      0.75       558\n",
            "\n",
            "    accuracy                           0.66       973\n",
            "   macro avg       0.68      0.63      0.62       973\n",
            "weighted avg       0.68      0.66      0.64       973\n",
            "\n"
          ],
          "name": "stdout"
        }
      ]
    },
    {
      "cell_type": "code",
      "metadata": {
        "colab": {
          "base_uri": "https://localhost:8080/",
          "height": 556
        },
        "id": "CKQ9HarivvE1",
        "outputId": "f3f2a881-8b8c-4bd9-fb09-78d373a9240a"
      },
      "source": [
        "#confusion matrix\n",
        "confusion_matrix = confusion_matrix(y_test, y_pred)\n",
        "print(confusion_matrix)\n",
        "\n",
        "plt.figure(figsize=(10,8))\n",
        "sn.heatmap(confusion_matrix, annot=True, cmap=\"Blues\", fmt= \"d\", annot_kws={\"size\": 15})\n",
        "plt.title('Confusion Matrix', fontsize = 15)\n",
        "plt.xlabel('Predicted', fontsize = 15) # x-axis label with fontsize 15\n",
        "plt.ylabel('Actual', fontsize = 15)\n",
        "plt.show()"
      ],
      "execution_count": 443,
      "outputs": [
        {
          "output_type": "stream",
          "text": [
            "[[151 264]\n",
            " [ 62 496]]\n"
          ],
          "name": "stdout"
        },
        {
          "output_type": "display_data",
          "data": {
            "image/png": "[encoded data removed]",
            "text/plain": [
              "<Figure size 720x576 with 2 Axes>"
            ]
          },
          "metadata": {
            "tags": [],
            "needs_background": "light"
          }
        }
      ]
    },
    {
      "cell_type": "code",
      "metadata": {
        "colab": {
          "base_uri": "https://localhost:8080/"
        },
        "id": "Q7akBssgMTRm",
        "outputId": "e6be0336-fb7e-4859-eafb-b2a2e987df59"
      },
      "source": [
        "#AUC Score\n",
        "roc_auc_score(y_test,y_pred)\n",
        "print('AUC: {:.2f}'.format(roc_auc_score(y_test,y_pred)))"
      ],
      "execution_count": 447,
      "outputs": [
        {
          "output_type": "stream",
          "text": [
            "AUC: 0.63\n"
          ],
          "name": "stdout"
        }
      ]
    },
    {
      "cell_type": "code",
      "metadata": {
        "colab": {
          "base_uri": "https://localhost:8080/",
          "height": 301
        },
        "id": "DqZ52HAbiubM",
        "outputId": "d4f9cfe8-759f-4b32-dac6-346445a3c7d0"
      },
      "source": [
        "#ROC Curve\n",
        "logit_roc_auc = roc_auc_score(y_test, logreg.predict(x_test))\n",
        "fpr, tpr, thresholds = roc_curve(y_test, logreg.predict_proba(x_test)[:,1])\n",
        "plt.figure()\n",
        "plt.plot(fpr, tpr, label='AUC = %0.2f' % logit_roc_auc)\n",
        "plt.plot([0, 1], [0, 1],'r--')\n",
        "plt.xlim([0.0, 1.0])\n",
        "plt.ylim([0.0, 1.05])\n",
        "plt.xlabel('False Positive Rate')\n",
        "plt.ylabel('True Positive Rate')\n",
        "plt.title('Receiver operating characteristic')\n",
        "plt.legend(loc=\"lower right\")\n",
        "plt.savefig('Log_ROC')\n",
        "plt.show()"
      ],
      "execution_count": 445,
      "outputs": [
        {
          "output_type": "display_data",
          "data": {
            "image/png": "[encoded data removed]",
            "text/plain": [
              "<Figure size 432x288 with 1 Axes>"
            ]
          },
          "metadata": {
            "tags": [],
            "needs_background": "light"
          }
        }
      ]
    },
    {
      "cell_type": "markdown",
      "metadata": {
        "id": "-fSnGB8Jxc1Y"
      },
      "source": [
        "#**Conclusion**"
      ]
    },
    {
      "cell_type": "markdown",
      "metadata": {
        "id": "Y6nIVjKgxbQX"
      },
      "source": [
        "In general, this is a good model. It has a decent AUC score at 63%. The ROC Curve also shows that the true positive rate is significantly higher than the false positive rate. This is also reflected in the recall score, which shows that the model is very good at making an accurate prediction out of the overall positive cases. Given that the context of this model is to identify cardiovascular disease risk, it is a good thing that the recall is so high as for disease diagnosis you want to capture all positive cases."
      ]
    }
  ]
}