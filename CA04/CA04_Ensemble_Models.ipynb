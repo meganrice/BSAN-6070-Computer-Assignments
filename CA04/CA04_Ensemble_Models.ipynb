{
  "nbformat": 4,
  "nbformat_minor": 0,
  "metadata": {
    "colab": {
      "name": "CA04 - Ensemble Models.ipynb",
      "provenance": [],
      "collapsed_sections": [
        "ZvcdQX2Iz49i",
        "xHKbx7jG2I8P",
        "G7BfHUPV25uG",
        "f_okg0NuoQHw",
        "NrpuQWSV0AWL",
        "tkkwyjAQ0H6_",
        "V6BJN8Kk0Nci",
        "BHiX3o0i0Qe2"
      ],
      "toc_visible": true
    },
    "kernelspec": {
      "name": "python3",
      "display_name": "Python 3"
    }
  },
  "cells": [
    {
      "cell_type": "markdown",
      "metadata": {
        "id": "ieAKDzvWvY5B"
      },
      "source": [
        "# **CA04 - Ensemble Models**"
      ]
    },
    {
      "cell_type": "markdown",
      "metadata": {
        "id": "ZvcdQX2Iz49i"
      },
      "source": [
        "# **1. Data Source and Contents**"
      ]
    },
    {
      "cell_type": "markdown",
      "metadata": {
        "id": "eN7Y8c-70mMZ"
      },
      "source": [
        "The dataset is obtained from the Census Bureau and represents salaries of people along with seven demographic variables. The following is a description of our dataset:\n",
        "\n",
        "• **Number of target classes:** 2 ('>50K' and '<=50K') [ Labels: 1, 0 ]\n",
        "\n",
        "• **Number of attributes (Columns):** 7\n",
        "\n",
        "• **Number of instances (Rows):** 48,842"
      ]
    },
    {
      "cell_type": "code",
      "metadata": {
        "id": "ExVOhFS20rgd"
      },
      "source": [
        "#importing packages\n",
        "import numpy as np\n",
        "import pandas as pd\n",
        "import matplotlib as plt\n",
        "import matplotlib.pyplot as pltpy\n",
        "from sklearn.preprocessing import LabelEncoder\n",
        "from sklearn.tree import DecisionTreeClassifier\n",
        "from sklearn.ensemble import RandomForestClassifier\n",
        "from sklearn.ensemble import AdaBoostClassifier\n",
        "from sklearn.ensemble import GradientBoostingClassifier\n",
        "from xgboost import XGBClassifier\n",
        "from sklearn.metrics import accuracy_score, roc_auc_score"
      ],
      "execution_count": 366,
      "outputs": []
    },
    {
      "cell_type": "code",
      "metadata": {
        "id": "VyLOBovWzw2I"
      },
      "source": [
        "#reading in dataset\n",
        "census_df = pd.read_csv('/content/census_data.csv')"
      ],
      "execution_count": 367,
      "outputs": []
    },
    {
      "cell_type": "markdown",
      "metadata": {
        "id": "xHKbx7jG2I8P"
      },
      "source": [
        "## Data Quality Analysis"
      ]
    },
    {
      "cell_type": "code",
      "metadata": {
        "colab": {
          "base_uri": "https://localhost:8080/"
        },
        "id": "BJvrW2MS2S6x",
        "outputId": "d211bd87-2a96-469a-bf85-94cb0d9ac400"
      },
      "source": [
        "#number of null values in each column\n",
        "census_df.isnull().sum()"
      ],
      "execution_count": 368,
      "outputs": [
        {
          "output_type": "execute_result",
          "data": {
            "text/plain": [
              "hours_per_week_bin    0\n",
              "occupation_bin        0\n",
              "msr_bin               0\n",
              "capital_gl_bin        0\n",
              "race_sex_bin          0\n",
              "education_num_bin     0\n",
              "education_bin         0\n",
              "workclass_bin         0\n",
              "age_bin               0\n",
              "flag                  0\n",
              "y                     0\n",
              "dtype: int64"
            ]
          },
          "metadata": {
            "tags": []
          },
          "execution_count": 368
        }
      ]
    },
    {
      "cell_type": "code",
      "metadata": {
        "colab": {
          "base_uri": "https://localhost:8080/"
        },
        "id": "Kgr2jnbs2WY1",
        "outputId": "86f1d65d-6847-4de3-d93f-2affae104c61"
      },
      "source": [
        "#number of non-null values for each column\n",
        "census_df.count()"
      ],
      "execution_count": 369,
      "outputs": [
        {
          "output_type": "execute_result",
          "data": {
            "text/plain": [
              "hours_per_week_bin    48842\n",
              "occupation_bin        48842\n",
              "msr_bin               48842\n",
              "capital_gl_bin        48842\n",
              "race_sex_bin          48842\n",
              "education_num_bin     48842\n",
              "education_bin         48842\n",
              "workclass_bin         48842\n",
              "age_bin               48842\n",
              "flag                  48842\n",
              "y                     48842\n",
              "dtype: int64"
            ]
          },
          "metadata": {
            "tags": []
          },
          "execution_count": 369
        }
      ]
    },
    {
      "cell_type": "code",
      "metadata": {
        "colab": {
          "base_uri": "https://localhost:8080/",
          "height": 297
        },
        "id": "4XwPbHMN2Y_u",
        "outputId": "c1d5b49b-9b46-470f-ab88-e043d0d1c57d"
      },
      "source": [
        "#statistical description of data\n",
        "census_df.describe()"
      ],
      "execution_count": 370,
      "outputs": [
        {
          "output_type": "execute_result",
          "data": {
            "text/html": [
              "<div>\n",
              "<style scoped>\n",
              "    .dataframe tbody tr th:only-of-type {\n",
              "        vertical-align: middle;\n",
              "    }\n",
              "\n",
              "    .dataframe tbody tr th {\n",
              "        vertical-align: top;\n",
              "    }\n",
              "\n",
              "    .dataframe thead th {\n",
              "        text-align: right;\n",
              "    }\n",
              "</style>\n",
              "<table border=\"1\" class=\"dataframe\">\n",
              "  <thead>\n",
              "    <tr style=\"text-align: right;\">\n",
              "      <th></th>\n",
              "      <th>y</th>\n",
              "    </tr>\n",
              "  </thead>\n",
              "  <tbody>\n",
              "    <tr>\n",
              "      <th>count</th>\n",
              "      <td>48842.000000</td>\n",
              "    </tr>\n",
              "    <tr>\n",
              "      <th>mean</th>\n",
              "      <td>0.239282</td>\n",
              "    </tr>\n",
              "    <tr>\n",
              "      <th>std</th>\n",
              "      <td>0.426649</td>\n",
              "    </tr>\n",
              "    <tr>\n",
              "      <th>min</th>\n",
              "      <td>0.000000</td>\n",
              "    </tr>\n",
              "    <tr>\n",
              "      <th>25%</th>\n",
              "      <td>0.000000</td>\n",
              "    </tr>\n",
              "    <tr>\n",
              "      <th>50%</th>\n",
              "      <td>0.000000</td>\n",
              "    </tr>\n",
              "    <tr>\n",
              "      <th>75%</th>\n",
              "      <td>0.000000</td>\n",
              "    </tr>\n",
              "    <tr>\n",
              "      <th>max</th>\n",
              "      <td>1.000000</td>\n",
              "    </tr>\n",
              "  </tbody>\n",
              "</table>\n",
              "</div>"
            ],
            "text/plain": [
              "                  y\n",
              "count  48842.000000\n",
              "mean       0.239282\n",
              "std        0.426649\n",
              "min        0.000000\n",
              "25%        0.000000\n",
              "50%        0.000000\n",
              "75%        0.000000\n",
              "max        1.000000"
            ]
          },
          "metadata": {
            "tags": []
          },
          "execution_count": 370
        }
      ]
    },
    {
      "cell_type": "code",
      "metadata": {
        "colab": {
          "base_uri": "https://localhost:8080/"
        },
        "id": "t-F4N-t12cRv",
        "outputId": "dc0be394-1f65-439d-8840-abb36f2ca877"
      },
      "source": [
        "#displaying range, column, number of non-null objects of each column, datatype, and memory usage\n",
        "census_df.info()"
      ],
      "execution_count": 371,
      "outputs": [
        {
          "output_type": "stream",
          "text": [
            "<class 'pandas.core.frame.DataFrame'>\n",
            "RangeIndex: 48842 entries, 0 to 48841\n",
            "Data columns (total 11 columns):\n",
            " #   Column              Non-Null Count  Dtype \n",
            "---  ------              --------------  ----- \n",
            " 0   hours_per_week_bin  48842 non-null  object\n",
            " 1   occupation_bin      48842 non-null  object\n",
            " 2   msr_bin             48842 non-null  object\n",
            " 3   capital_gl_bin      48842 non-null  object\n",
            " 4   race_sex_bin        48842 non-null  object\n",
            " 5   education_num_bin   48842 non-null  object\n",
            " 6   education_bin       48842 non-null  object\n",
            " 7   workclass_bin       48842 non-null  object\n",
            " 8   age_bin             48842 non-null  object\n",
            " 9   flag                48842 non-null  object\n",
            " 10  y                   48842 non-null  int64 \n",
            "dtypes: int64(1), object(10)\n",
            "memory usage: 4.1+ MB\n"
          ],
          "name": "stdout"
        }
      ]
    },
    {
      "cell_type": "code",
      "metadata": {
        "colab": {
          "base_uri": "https://localhost:8080/",
          "height": 272
        },
        "id": "r61A4dcT2e8t",
        "outputId": "9f420e24-70ec-4cbe-b9a5-a5057352ba6c"
      },
      "source": [
        "#displaying top 5 and bottom 5 records\n",
        "census_df.head()\n",
        "census_df.tail()"
      ],
      "execution_count": 372,
      "outputs": [
        {
          "output_type": "execute_result",
          "data": {
            "text/html": [
              "<div>\n",
              "<style scoped>\n",
              "    .dataframe tbody tr th:only-of-type {\n",
              "        vertical-align: middle;\n",
              "    }\n",
              "\n",
              "    .dataframe tbody tr th {\n",
              "        vertical-align: top;\n",
              "    }\n",
              "\n",
              "    .dataframe thead th {\n",
              "        text-align: right;\n",
              "    }\n",
              "</style>\n",
              "<table border=\"1\" class=\"dataframe\">\n",
              "  <thead>\n",
              "    <tr style=\"text-align: right;\">\n",
              "      <th></th>\n",
              "      <th>hours_per_week_bin</th>\n",
              "      <th>occupation_bin</th>\n",
              "      <th>msr_bin</th>\n",
              "      <th>capital_gl_bin</th>\n",
              "      <th>race_sex_bin</th>\n",
              "      <th>education_num_bin</th>\n",
              "      <th>education_bin</th>\n",
              "      <th>workclass_bin</th>\n",
              "      <th>age_bin</th>\n",
              "      <th>flag</th>\n",
              "      <th>y</th>\n",
              "    </tr>\n",
              "  </thead>\n",
              "  <tbody>\n",
              "    <tr>\n",
              "      <th>48837</th>\n",
              "      <td>b. 31-40</td>\n",
              "      <td>e. High</td>\n",
              "      <td>b. Mid</td>\n",
              "      <td>a. = 0</td>\n",
              "      <td>b. Mid</td>\n",
              "      <td>c. 13</td>\n",
              "      <td>c. Bachelors</td>\n",
              "      <td>b. income</td>\n",
              "      <td>d. 36-40 &amp; 56-60</td>\n",
              "      <td>test</td>\n",
              "      <td>0</td>\n",
              "    </tr>\n",
              "    <tr>\n",
              "      <th>48838</th>\n",
              "      <td>b. 31-40</td>\n",
              "      <td>b. Mid - Low</td>\n",
              "      <td>a. Low</td>\n",
              "      <td>a. = 0</td>\n",
              "      <td>b. Mid</td>\n",
              "      <td>b. 9-12</td>\n",
              "      <td>b. Mid</td>\n",
              "      <td>a. no income</td>\n",
              "      <td>c. 31-35 &amp; 61-70</td>\n",
              "      <td>test</td>\n",
              "      <td>0</td>\n",
              "    </tr>\n",
              "    <tr>\n",
              "      <th>48839</th>\n",
              "      <td>d. 41-50 &amp; 61-70</td>\n",
              "      <td>e. High</td>\n",
              "      <td>c. High</td>\n",
              "      <td>a. = 0</td>\n",
              "      <td>c. High</td>\n",
              "      <td>c. 13</td>\n",
              "      <td>c. Bachelors</td>\n",
              "      <td>b. income</td>\n",
              "      <td>d. 36-40 &amp; 56-60</td>\n",
              "      <td>test</td>\n",
              "      <td>0</td>\n",
              "    </tr>\n",
              "    <tr>\n",
              "      <th>48840</th>\n",
              "      <td>b. 31-40</td>\n",
              "      <td>b. Mid - Low</td>\n",
              "      <td>a. Low</td>\n",
              "      <td>c. &gt; 0</td>\n",
              "      <td>c. High</td>\n",
              "      <td>c. 13</td>\n",
              "      <td>c. Bachelors</td>\n",
              "      <td>b. income</td>\n",
              "      <td>e. 40-55</td>\n",
              "      <td>test</td>\n",
              "      <td>0</td>\n",
              "    </tr>\n",
              "    <tr>\n",
              "      <th>48841</th>\n",
              "      <td>e. 51-60</td>\n",
              "      <td>e. High</td>\n",
              "      <td>c. High</td>\n",
              "      <td>a. = 0</td>\n",
              "      <td>c. High</td>\n",
              "      <td>c. 13</td>\n",
              "      <td>c. Bachelors</td>\n",
              "      <td>b. income</td>\n",
              "      <td>c. 31-35 &amp; 61-70</td>\n",
              "      <td>test</td>\n",
              "      <td>1</td>\n",
              "    </tr>\n",
              "  </tbody>\n",
              "</table>\n",
              "</div>"
            ],
            "text/plain": [
              "      hours_per_week_bin occupation_bin  msr_bin  ...           age_bin  flag  y\n",
              "48837           b. 31-40        e. High   b. Mid  ...  d. 36-40 & 56-60  test  0\n",
              "48838           b. 31-40   b. Mid - Low   a. Low  ...  c. 31-35 & 61-70  test  0\n",
              "48839   d. 41-50 & 61-70        e. High  c. High  ...  d. 36-40 & 56-60  test  0\n",
              "48840           b. 31-40   b. Mid - Low   a. Low  ...          e. 40-55  test  0\n",
              "48841           e. 51-60        e. High  c. High  ...  c. 31-35 & 61-70  test  1\n",
              "\n",
              "[5 rows x 11 columns]"
            ]
          },
          "metadata": {
            "tags": []
          },
          "execution_count": 372
        }
      ]
    },
    {
      "cell_type": "markdown",
      "metadata": {
        "id": "G7BfHUPV25uG"
      },
      "source": [
        "## Exploratory Data Analysis"
      ]
    },
    {
      "cell_type": "markdown",
      "metadata": {
        "id": "qRJp4brHFUSf"
      },
      "source": [
        "EDA of the income group with respect to the seven explanatory variables and display graphical representations.\n",
        "\n",
        "There are 7 explanatory variables:\n",
        "1. Age (5 bins)\n",
        "2. Capital Gain / Loss (3 bins)\n",
        "3. Education (5 bins)\n",
        "4. Hours per Week (5 bins)\n",
        "5. Marriage Status and Relationship (3 bins)\n",
        "6. Occupation (5 bins)\n",
        "7. Race and Sex (3 bins)"
      ]
    },
    {
      "cell_type": "code",
      "metadata": {
        "colab": {
          "base_uri": "https://localhost:8080/",
          "height": 378
        },
        "id": "Ix1kdkKWE_yX",
        "outputId": "fac273f4-37ba-49b5-a284-1fd8991e03ab"
      },
      "source": [
        "#Age Graphical Representation\n",
        "census_df.pivot_table(index= 'age_bin', columns= 'y', aggfunc= 'size').plot.bar(stacked= True)"
      ],
      "execution_count": 373,
      "outputs": [
        {
          "output_type": "execute_result",
          "data": {
            "text/plain": [
              "<matplotlib.axes._subplots.AxesSubplot at 0x7f26b64e4950>"
            ]
          },
          "metadata": {
            "tags": []
          },
          "execution_count": 373
        },
        {
          "output_type": "display_data",
          "data": {
            "image/png": "[encoded data removed]",
            "text/plain": [
              "<Figure size 432x288 with 1 Axes>"
            ]
          },
          "metadata": {
            "tags": [],
            "needs_background": "light"
          }
        }
      ]
    },
    {
      "cell_type": "code",
      "metadata": {
        "colab": {
          "base_uri": "https://localhost:8080/",
          "height": 317
        },
        "id": "roEajejPFAth",
        "outputId": "96ecb392-2e74-4558-b47e-f234190416e0"
      },
      "source": [
        "#Capital Gain / Loss Graphical Representation\n",
        "census_df.pivot_table(index= 'capital_gl_bin', columns= 'y', aggfunc= 'size').plot.bar(stacked= True)"
      ],
      "execution_count": 374,
      "outputs": [
        {
          "output_type": "execute_result",
          "data": {
            "text/plain": [
              "<matplotlib.axes._subplots.AxesSubplot at 0x7f26b64182d0>"
            ]
          },
          "metadata": {
            "tags": []
          },
          "execution_count": 374
        },
        {
          "output_type": "display_data",
          "data": {
            "image/png": "[encoded data removed]",
            "text/plain": [
              "<Figure size 432x288 with 1 Axes>"
            ]
          },
          "metadata": {
            "tags": [],
            "needs_background": "light"
          }
        }
      ]
    },
    {
      "cell_type": "code",
      "metadata": {
        "colab": {
          "base_uri": "https://localhost:8080/",
          "height": 348
        },
        "id": "-iPGjHEsFC_H",
        "outputId": "cbdd2051-edaa-45ef-f267-f235bc2c4110"
      },
      "source": [
        "#Education Graphical Representation\n",
        "census_df.pivot_table(index= 'education_bin', columns= 'y', aggfunc= 'size').plot.bar(stacked= True)"
      ],
      "execution_count": 375,
      "outputs": [
        {
          "output_type": "execute_result",
          "data": {
            "text/plain": [
              "<matplotlib.axes._subplots.AxesSubplot at 0x7f26b63b5850>"
            ]
          },
          "metadata": {
            "tags": []
          },
          "execution_count": 375
        },
        {
          "output_type": "display_data",
          "data": {
            "image/png": "[encoded data removed]",
            "text/plain": [
              "<Figure size 432x288 with 1 Axes>"
            ]
          },
          "metadata": {
            "tags": [],
            "needs_background": "light"
          }
        }
      ]
    },
    {
      "cell_type": "code",
      "metadata": {
        "colab": {
          "base_uri": "https://localhost:8080/",
          "height": 372
        },
        "id": "z0TxXM6XFHHp",
        "outputId": "71b13d80-ee2f-4473-ddc1-e06f9b1fbf6b"
      },
      "source": [
        "#Hours per Week Graphical Representation\n",
        "census_df.pivot_table(index= 'hours_per_week_bin', columns= 'y', aggfunc= 'size').plot.bar(stacked= True)"
      ],
      "execution_count": 376,
      "outputs": [
        {
          "output_type": "execute_result",
          "data": {
            "text/plain": [
              "<matplotlib.axes._subplots.AxesSubplot at 0x7f26b62dead0>"
            ]
          },
          "metadata": {
            "tags": []
          },
          "execution_count": 376
        },
        {
          "output_type": "display_data",
          "data": {
            "image/png": "[encoded data removed]",
            "text/plain": [
              "<Figure size 432x288 with 1 Axes>"
            ]
          },
          "metadata": {
            "tags": [],
            "needs_background": "light"
          }
        }
      ]
    },
    {
      "cell_type": "code",
      "metadata": {
        "colab": {
          "base_uri": "https://localhost:8080/",
          "height": 322
        },
        "id": "-TiVv5dCFHy4",
        "outputId": "6dac6d97-b324-44a6-855f-bab39bc25f96"
      },
      "source": [
        "#Marriage Status and Relationship Graphical Representation\n",
        "census_df.pivot_table(index= 'msr_bin', columns= 'y', aggfunc= 'size').plot.bar(stacked= True)"
      ],
      "execution_count": 377,
      "outputs": [
        {
          "output_type": "execute_result",
          "data": {
            "text/plain": [
              "<matplotlib.axes._subplots.AxesSubplot at 0x7f26b626fd90>"
            ]
          },
          "metadata": {
            "tags": []
          },
          "execution_count": 377
        },
        {
          "output_type": "display_data",
          "data": {
            "image/png": "[encoded data removed]",
            "text/plain": [
              "<Figure size 432x288 with 1 Axes>"
            ]
          },
          "metadata": {
            "tags": [],
            "needs_background": "light"
          }
        }
      ]
    },
    {
      "cell_type": "code",
      "metadata": {
        "colab": {
          "base_uri": "https://localhost:8080/",
          "height": 351
        },
        "id": "x74tp-q_FJ3Q",
        "outputId": "2dfb3bef-ca7c-4b56-9dcd-0df43594c228"
      },
      "source": [
        "#Occupation Graphical Representation\n",
        "census_df.pivot_table(index= 'occupation_bin', columns= 'y', aggfunc= 'size').plot.bar(stacked= True)"
      ],
      "execution_count": 378,
      "outputs": [
        {
          "output_type": "execute_result",
          "data": {
            "text/plain": [
              "<matplotlib.axes._subplots.AxesSubplot at 0x7f26b6256350>"
            ]
          },
          "metadata": {
            "tags": []
          },
          "execution_count": 378
        },
        {
          "output_type": "display_data",
          "data": {
            "image/png": "[encoded data removed]",
            "text/plain": [
              "<Figure size 432x288 with 1 Axes>"
            ]
          },
          "metadata": {
            "tags": [],
            "needs_background": "light"
          }
        }
      ]
    },
    {
      "cell_type": "code",
      "metadata": {
        "colab": {
          "base_uri": "https://localhost:8080/",
          "height": 322
        },
        "id": "UsUQsU-SFL1-",
        "outputId": "ae60e13e-3ca5-4653-e01c-672cb9e5cb19"
      },
      "source": [
        "#Race and Sex Graphical Representation\n",
        "census_df.pivot_table(index= 'race_sex_bin', columns= 'y', aggfunc= 'size').plot.bar(stacked= True)"
      ],
      "execution_count": 379,
      "outputs": [
        {
          "output_type": "execute_result",
          "data": {
            "text/plain": [
              "<matplotlib.axes._subplots.AxesSubplot at 0x7f26b61ad7d0>"
            ]
          },
          "metadata": {
            "tags": []
          },
          "execution_count": 379
        },
        {
          "output_type": "display_data",
          "data": {
            "image/png": "[encoded data removed]",
            "text/plain": [
              "<Figure size 432x288 with 1 Axes>"
            ]
          },
          "metadata": {
            "tags": [],
            "needs_background": "light"
          }
        }
      ]
    },
    {
      "cell_type": "markdown",
      "metadata": {
        "id": "f_okg0NuoQHw"
      },
      "source": [
        "## Splitting the Data"
      ]
    },
    {
      "cell_type": "code",
      "metadata": {
        "id": "E27hHRupoTaT"
      },
      "source": [
        "#changing feature columns into a categorical variable\n",
        "for col in ['hours_per_week_bin','occupation_bin','msr_bin', 'capital_gl_bin',\n",
        "'race_sex_bin', 'education_num_bin', 'education_bin', 'workclass_bin',\n",
        "'age_bin']:\n",
        "    census_df[col] = census_df[col].astype('category')"
      ],
      "execution_count": 380,
      "outputs": []
    },
    {
      "cell_type": "code",
      "metadata": {
        "id": "AKS3ywIToWa7"
      },
      "source": [
        "census_df[['hours_per_week_bin','occupation_bin','msr_bin', 'capital_gl_bin',\n",
        "       'race_sex_bin', 'education_num_bin', 'education_bin', 'workclass_bin',\n",
        "       'age_bin']] = census_df[['hours_per_week_bin','occupation_bin','msr_bin', 'capital_gl_bin',\n",
        "       'race_sex_bin', 'education_num_bin', 'education_bin', 'workclass_bin',\n",
        "       'age_bin']].apply(LabelEncoder().fit_transform)"
      ],
      "execution_count": 381,
      "outputs": []
    },
    {
      "cell_type": "code",
      "metadata": {
        "id": "hjfoLE99oZ1R"
      },
      "source": [
        "#splitting original dataset into training and testing data on flag column\n",
        "train_df = census_df.loc[census_df.flag == 'train']\n",
        "test_df = census_df.loc[census_df.flag == 'test']"
      ],
      "execution_count": 382,
      "outputs": []
    },
    {
      "cell_type": "code",
      "metadata": {
        "colab": {
          "base_uri": "https://localhost:8080/"
        },
        "id": "SJm1DU-hob_r",
        "outputId": "f828bd68-7c17-4c7e-da9e-f5708992064d"
      },
      "source": [
        "#dropping flag column as the data is already seperated\n",
        "train_df.drop(columns= 'flag', inplace= True)\n",
        "test_df.drop(columns= 'flag', inplace= True)"
      ],
      "execution_count": 383,
      "outputs": [
        {
          "output_type": "stream",
          "text": [
            "/usr/local/lib/python3.7/dist-packages/pandas/core/frame.py:4174: SettingWithCopyWarning: \n",
            "A value is trying to be set on a copy of a slice from a DataFrame\n",
            "\n",
            "See the caveats in the documentation: https://pandas.pydata.org/pandas-docs/stable/user_guide/indexing.html#returning-a-view-versus-a-copy\n",
            "  errors=errors,\n"
          ],
          "name": "stderr"
        }
      ]
    },
    {
      "cell_type": "code",
      "metadata": {
        "id": "97HMDWjVod6X"
      },
      "source": [
        "#split training and testing data into attributes/features (x) and labels (y)\n",
        "y_train = train_df['y']\n",
        "x_train = train_df.drop('y', axis= 1)\n",
        "\n",
        "y_test = test_df['y']\n",
        "x_test = test_df.drop('y', axis= 1)"
      ],
      "execution_count": 384,
      "outputs": []
    },
    {
      "cell_type": "markdown",
      "metadata": {
        "id": "NrpuQWSV0AWL"
      },
      "source": [
        "# **2. Finding Optimal Value of a key Hyper-parameter**"
      ]
    },
    {
      "cell_type": "code",
      "metadata": {
        "colab": {
          "base_uri": "https://localhost:8080/",
          "height": 282
        },
        "id": "ia8a11nt31ne",
        "outputId": "bb8082fb-474c-4904-f255-69d32d443e00"
      },
      "source": [
        "#Random Forest\n",
        "#finding the optimal value for maximum depth\n",
        "results = []\n",
        "max_depth_options = [2,4,6,8,10,12,14,16,18,20]\n",
        "for trees in max_depth_options:\n",
        "    model = RandomForestClassifier(max_depth = trees, random_state = 101)\n",
        "    model.fit(x_train, y_train)\n",
        "    y_pred = model.predict(x_test)\n",
        "    accuracy = np.mean(y_test == y_pred)\n",
        "    results.append(accuracy)\n",
        "\n",
        "pltpy.plot(figsize= (8,4))\n",
        "pd.Series(results, max_depth_options).plot(color = \"darkred\", marker = \"o\")"
      ],
      "execution_count": 385,
      "outputs": [
        {
          "output_type": "execute_result",
          "data": {
            "text/plain": [
              "<matplotlib.axes._subplots.AxesSubplot at 0x7f26b60e1c50>"
            ]
          },
          "metadata": {
            "tags": []
          },
          "execution_count": 385
        },
        {
          "output_type": "display_data",
          "data": {
            "image/png": "[encoded data removed]",
            "text/plain": [
              "<Figure size 432x288 with 1 Axes>"
            ]
          },
          "metadata": {
            "tags": [],
            "needs_background": "light"
          }
        }
      ]
    },
    {
      "cell_type": "markdown",
      "metadata": {
        "id": "tkkwyjAQ0H6_"
      },
      "source": [
        "# **3. Building a Random Forest Model**"
      ]
    },
    {
      "cell_type": "code",
      "metadata": {
        "colab": {
          "base_uri": "https://localhost:8080/",
          "height": 282
        },
        "id": "6SPGVUaYMqT8",
        "outputId": "061a5de8-b165-4724-cb4f-b2b414102ff5"
      },
      "source": [
        "#Random Forest\n",
        "#finding the optimal value for n_estimator\n",
        "results = []\n",
        "n_estimator_options = [50,100,150,200,250,300,350,400,450,500]\n",
        "for n in n_estimator_options:\n",
        "    model = RandomForestClassifier(n_estimators = n, random_state = 101)\n",
        "    model.fit(x_train, y_train)\n",
        "    y_pred = model.predict(x_test)\n",
        "    accuracy = np.mean(y_test == y_pred)\n",
        "    results.append(accuracy)\n",
        "\n",
        "pltpy.plot(figsize= (8,4))\n",
        "pd.Series(results, n_estimator_options).plot(color = \"darkred\", marker = \"o\")"
      ],
      "execution_count": 386,
      "outputs": [
        {
          "output_type": "execute_result",
          "data": {
            "text/plain": [
              "<matplotlib.axes._subplots.AxesSubplot at 0x7f26b6077d10>"
            ]
          },
          "metadata": {
            "tags": []
          },
          "execution_count": 386
        },
        {
          "output_type": "display_data",
          "data": {
            "image/png": "[encoded data removed]",
            "text/plain": [
              "<Figure size 432x288 with 1 Axes>"
            ]
          },
          "metadata": {
            "tags": [],
            "needs_background": "light"
          }
        }
      ]
    },
    {
      "cell_type": "markdown",
      "metadata": {
        "id": "S6-7SBkJPVDO"
      },
      "source": [
        "**1. Write your observations about the Classifier’s behavior with respect to the number of estimators.**\n",
        "\n",
        "In this classifier, it appears that it achieves higher accuracy with a lower number of estimators.\n",
        "\n",
        "**2. Is there an optimal value of the estimator within the given range?**\n",
        "\n",
        "The optimal value for the range of estimators given was 50."
      ]
    },
    {
      "cell_type": "markdown",
      "metadata": {
        "id": "V6BJN8Kk0Nci"
      },
      "source": [
        "# **4. Building AdaBoost, Gradient Boost (classifier), and XGB Model**"
      ]
    },
    {
      "cell_type": "code",
      "metadata": {
        "colab": {
          "base_uri": "https://localhost:8080/",
          "height": 282
        },
        "id": "bKFD4pm7P5nq",
        "outputId": "79d1c125-5b50-49b4-b0c0-e920c0626ba4"
      },
      "source": [
        "#AdaBoost\n",
        "#finding the optimal value for n_estimator\n",
        "results = []\n",
        "n_estimator_options = [50,100,150,200,250,300,350,400,450,500]\n",
        "for n in n_estimator_options:\n",
        "    model = AdaBoostClassifier(n_estimators = n, random_state = 101)\n",
        "    model.fit(x_train, y_train)\n",
        "    y_pred = model.predict(x_test)\n",
        "    accuracy = np.mean(y_test == y_pred)\n",
        "    results.append(accuracy)\n",
        "\n",
        "pltpy.plot(figsize= (8,4))\n",
        "pd.Series(results, n_estimator_options).plot(color = \"darkred\", marker = \"o\")"
      ],
      "execution_count": 387,
      "outputs": [
        {
          "output_type": "execute_result",
          "data": {
            "text/plain": [
              "<matplotlib.axes._subplots.AxesSubplot at 0x7f26b60f6390>"
            ]
          },
          "metadata": {
            "tags": []
          },
          "execution_count": 387
        },
        {
          "output_type": "display_data",
          "data": {
            "image/png": "[encoded data removed]",
            "text/plain": [
              "<Figure size 432x288 with 1 Axes>"
            ]
          },
          "metadata": {
            "tags": [],
            "needs_background": "light"
          }
        }
      ]
    },
    {
      "cell_type": "code",
      "metadata": {
        "colab": {
          "base_uri": "https://localhost:8080/",
          "height": 282
        },
        "id": "K7R4tN5ERbom",
        "outputId": "224a6b9c-ceef-4648-e373-96bfedd265a7"
      },
      "source": [
        "#Gradient Boost\n",
        "#finding the optimal value for n_estimator\n",
        "results = []\n",
        "n_estimator_options = [50,100,150,200,250,300,350,400,450,500]\n",
        "for n in n_estimator_options:\n",
        "    model = GradientBoostingClassifier(n_estimators = n, random_state = 101)\n",
        "    model.fit(x_train, y_train)\n",
        "    y_pred = model.predict(x_test)\n",
        "    accuracy = np.mean(y_test == y_pred)\n",
        "    results.append(accuracy)\n",
        "\n",
        "pltpy.plot(figsize= (8,4))\n",
        "pd.Series(results, n_estimator_options).plot(color = \"darkred\", marker = \"o\")"
      ],
      "execution_count": 388,
      "outputs": [
        {
          "output_type": "execute_result",
          "data": {
            "text/plain": [
              "<matplotlib.axes._subplots.AxesSubplot at 0x7f26b5effdd0>"
            ]
          },
          "metadata": {
            "tags": []
          },
          "execution_count": 388
        },
        {
          "output_type": "display_data",
          "data": {
            "image/png": "[encoded data removed]",
            "text/plain": [
              "<Figure size 432x288 with 1 Axes>"
            ]
          },
          "metadata": {
            "tags": [],
            "needs_background": "light"
          }
        }
      ]
    },
    {
      "cell_type": "code",
      "metadata": {
        "colab": {
          "base_uri": "https://localhost:8080/",
          "height": 282
        },
        "id": "p7iarJrLTWZO",
        "outputId": "9c2b19d9-dc9a-486a-cced-019cc954586e"
      },
      "source": [
        "#XGB\n",
        "#finding the optimal value for n_estimator\n",
        "results = []\n",
        "n_estimator_options = [50,100,150,200,250,300,350,400,450,500]\n",
        "for n in n_estimator_options:\n",
        "    model = XGBClassifier(n_estimators = n, random_state = 101)\n",
        "    model.fit(x_train, y_train)\n",
        "    y_pred = model.predict(x_test)\n",
        "    accuracy = np.mean(y_test == y_pred)\n",
        "    results.append(accuracy)\n",
        "\n",
        "pltpy.plot(figsize= (8,4))\n",
        "pd.Series(results, n_estimator_options).plot(color = \"darkred\", marker = \"o\")"
      ],
      "execution_count": 389,
      "outputs": [
        {
          "output_type": "execute_result",
          "data": {
            "text/plain": [
              "<matplotlib.axes._subplots.AxesSubplot at 0x7f26b5eff750>"
            ]
          },
          "metadata": {
            "tags": []
          },
          "execution_count": 389
        },
        {
          "output_type": "display_data",
          "data": {
            "image/png": "[encoded data removed]",
            "text/plain": [
              "<Figure size 432x288 with 1 Axes>"
            ]
          },
          "metadata": {
            "tags": [],
            "needs_background": "light"
          }
        }
      ]
    },
    {
      "cell_type": "markdown",
      "metadata": {
        "id": "BHiX3o0i0Qe2"
      },
      "source": [
        "# **5. Compare Performance**"
      ]
    },
    {
      "cell_type": "code",
      "metadata": {
        "colab": {
          "base_uri": "https://localhost:8080/",
          "height": 111
        },
        "id": "Zbz1TzlAGXku",
        "outputId": "bb20c445-4431-4bc5-93ce-9129d0ae1ac9"
      },
      "source": [
        "#creating an empty list\n",
        "results = []\n",
        "\n",
        "#classifiers used\n",
        "classifiers = [RandomForestClassifier,AdaBoostClassifier,GradientBoostingClassifier,XGBClassifier]\n",
        "\n",
        "#setting common hyperparameters\n",
        "params = {'n_estimators': 100, 'random_state': 101}\n",
        "\n",
        "#calculating accuracy and AUC of each model\n",
        "for classifier in classifiers:\n",
        "    model = classifier(**params)\n",
        "    model.fit(x_train, y_train)\n",
        "    y_pred = model.predict(x_test)\n",
        "    Accuracy = np.mean(y_test == y_pred)\n",
        "    AUC = roc_auc_score(y_test,y_pred)\n",
        "\n",
        "    results.append([Accuracy, AUC])\n",
        "\n",
        "#putting results in comparison table\n",
        "comparison = pd.DataFrame(results).transpose()\n",
        "comparison.columns = ['Random Forest', 'AdaBoost', 'Gradient Boost', 'XGB']\n",
        "comparison.index = ['Accuracy', 'AUC']\n",
        "comparison"
      ],
      "execution_count": 390,
      "outputs": [
        {
          "output_type": "execute_result",
          "data": {
            "text/html": [
              "<div>\n",
              "<style scoped>\n",
              "    .dataframe tbody tr th:only-of-type {\n",
              "        vertical-align: middle;\n",
              "    }\n",
              "\n",
              "    .dataframe tbody tr th {\n",
              "        vertical-align: top;\n",
              "    }\n",
              "\n",
              "    .dataframe thead th {\n",
              "        text-align: right;\n",
              "    }\n",
              "</style>\n",
              "<table border=\"1\" class=\"dataframe\">\n",
              "  <thead>\n",
              "    <tr style=\"text-align: right;\">\n",
              "      <th></th>\n",
              "      <th>Random Forest</th>\n",
              "      <th>AdaBoost</th>\n",
              "      <th>Gradient Boost</th>\n",
              "      <th>XGB</th>\n",
              "    </tr>\n",
              "  </thead>\n",
              "  <tbody>\n",
              "    <tr>\n",
              "      <th>Accuracy</th>\n",
              "      <td>0.838216</td>\n",
              "      <td>0.844911</td>\n",
              "      <td>0.846631</td>\n",
              "      <td>0.847122</td>\n",
              "    </tr>\n",
              "    <tr>\n",
              "      <th>AUC</th>\n",
              "      <td>0.747542</td>\n",
              "      <td>0.746088</td>\n",
              "      <td>0.756732</td>\n",
              "      <td>0.756785</td>\n",
              "    </tr>\n",
              "  </tbody>\n",
              "</table>\n",
              "</div>"
            ],
            "text/plain": [
              "          Random Forest  AdaBoost  Gradient Boost       XGB\n",
              "Accuracy       0.838216  0.844911        0.846631  0.847122\n",
              "AUC            0.747542  0.746088        0.756732  0.756785"
            ]
          },
          "metadata": {
            "tags": []
          },
          "execution_count": 390
        }
      ]
    },
    {
      "cell_type": "code",
      "metadata": {
        "colab": {
          "base_uri": "https://localhost:8080/"
        },
        "id": "QYd-M6mJIdJi",
        "outputId": "fb849e03-020c-4b6c-b46b-04070a3d3fcd"
      },
      "source": [
        "print(params)"
      ],
      "execution_count": 391,
      "outputs": [
        {
          "output_type": "stream",
          "text": [
            "{'n_estimators': 100, 'random_state': 101}\n"
          ],
          "name": "stdout"
        }
      ]
    }
  ]
}